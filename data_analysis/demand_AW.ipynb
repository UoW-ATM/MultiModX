{
 "cells": [
  {
   "cell_type": "code",
   "execution_count": null,
   "id": "d5ce180b-bd9c-465b-b965-dc89fc1d6d0f",
   "metadata": {},
   "outputs": [],
   "source": [
    "import pandas as pd\n",
    "\n",
    "aw_od = pd.read_excel('../data/Revised Files from AWN (ASM)/O&D (Europe to world each way and world via Europe).xlsx')"
   ]
  },
  {
   "cell_type": "code",
   "execution_count": null,
   "id": "8b2b677c-e416-4c30-85a2-4b094099e28d",
   "metadata": {},
   "outputs": [],
   "source": [
    "aw_od.iloc[0]"
   ]
  },
  {
   "cell_type": "code",
   "execution_count": null,
   "id": "09a5f245-255e-40e5-938c-71665543a353",
   "metadata": {},
   "outputs": [],
   "source": [
    "aw_spain = aw_od[(aw_od['Origin Country Name']=='SPAIN') | (aw_od['Destination Country Name']=='SPAIN')]\n",
    "aw_spain.to_csv('../data/CS-ES-UPC/aw_spain_itineraries_raw.csv')"
   ]
  },
  {
   "cell_type": "code",
   "execution_count": null,
   "id": "2952e6eb-fc55-404f-8e84-696f285eeb40",
   "metadata": {},
   "outputs": [],
   "source": [
    "aw_spain = aw_spain[(aw_spain['Origin Airport Name']!='FERRY PORT') & (aw_spain['Origin Airport Name']!='BERNE RAILWAY SERVICE') &\n",
    "(aw_spain['Origin City Name']!='RAILWAY - GERMANY') & (aw_spain['Origin Airport Name']!='COLOGNE HBF RAIL STATION') & \n",
    "(aw_spain['Origin Airport Name']!='SANTS RAILWAY STATION') & (aw_spain['Origin Airport Name']!='ATOCHA RAILWAY STATION') & \n",
    "(aw_spain['Origin Airport Name']!='LILLE EUROPE RAIL SERVICE') & (aw_spain['Origin City Name']!='ALGECIRAS') &\n",
    "(aw_spain['Origin Airport Name']!='SBB RAILWAY SERVICE') & (aw_spain['Origin Airport Name']!='STRASBOURG BUS STATION') & \n",
    "(aw_spain['Origin Airport Name']!='DELICIAS RAILWAY STATION') & (aw_spain['Origin Airport Name']!='RAILWAY STATION') &\n",
    "(aw_spain['Origin Airport Name']!='MIDI RAILWAY STATION') & (aw_spain['Origin Airport Name']!='HBF RAILWAY STATION') &\n",
    "(aw_spain['Origin Airport Name']!='VALENCIA RAILWAY STATION') & (aw_spain['Origin Airport Name']!='CHAMARTIN RAILWAY STATION') &\n",
    "(aw_spain['Origin Airport Name']!='EK BUS STATION') & (aw_spain['Origin Airport Name']!='TRAVEL MALL EY BUS STATION') &\n",
    "(aw_spain['Origin Airport Name']!='OTTAWA RAIL STATION') & (aw_spain['Origin Airport']!='RZG') & (aw_spain['Origin Airport']!='BQC') &\n",
    "(aw_spain['Origin Airport']!='XJN') & (aw_spain['Origin Airport Name']!='ARNHEM BUS STATION') &\n",
    "(aw_spain['Origin Airport Name']!='LEON RAILWAY STATION') & (aw_spain['Origin Airport']!='XJR') & \n",
    "(aw_spain['Origin Airport Name']!='LINZ HAUPTBAHNHOF RAIL STATION') & (aw_spain['Origin Airport']!='GBX') &\n",
    "(aw_spain['Origin Airport']!='EMU') & (aw_spain['Origin Airport Name']!='SANTA JUSTA RAILWAY STATION') & \n",
    "(aw_spain['Origin Airport Name']!='MAASTRICHT RAILWAY SERVICE') & (aw_spain['Origin Airport']!='LZB') &\n",
    "(aw_spain['Origin Airport Name']!='GARE DE RENNES RAIL STATION') & (aw_spain['Origin Airport']!='PFE') &\n",
    "(aw_spain['Origin Airport Name']!='ABU DHABI EK BUS STATION') & (aw_spain['Origin Airport']!='EXC') &\n",
    "(aw_spain['Origin Airport Name']!='ST-PIERRE-CORPS RAIL STATION') & (aw_spain['Origin Airport Name']!='KINGSTON RAIL STATION') &\n",
    "(aw_spain['Origin Airport Name']!='CENTRAL RAILWAY STATION') & (aw_spain['Origin Airport Name']!='NOTTINGHAM BUS STATION') &\n",
    "(aw_spain['Origin Airport Name']!='CADIZ RAILWAY STATION') & (aw_spain['Origin Airport Name']!='KARLSRUHE HBF RAILWAY STATION') &\n",
    "(aw_spain['Origin Airport']!='QYE') & (aw_spain['Origin Airport Name']!='LE MANS RAIL STATION') &\n",
    "(aw_spain['Origin Airport Name']!='NANTES RAILWAY SERVICE') & (aw_spain['Origin Airport Name']!='LORRAINE TGV RAIL STATION') &\n",
    "(aw_spain['Origin Airport']!='FBV') & (aw_spain['Origin Airport']!='ALV') & (aw_spain['Origin Airport Name']!='PART-DIEU RAILWAY STATION') &\n",
    "(aw_spain['Origin Airport Name']!='CENTRAAL RAILWAY STATION') & (aw_spain['Origin Airport']!='XZN') &\n",
    "(aw_spain['Origin Airport Name']!='SAINT PANCRAS INTL RAIL STATION') & (aw_spain['Origin Airport Name']!='TARRAGONA/CAMP RAIL STATION') &\n",
    "(aw_spain['Origin Airport Name']!='BUS STA}TION') & (aw_spain['Origin Airport Name']!='SABTCO BUS STATION') &\n",
    "(aw_spain['Origin Airport Name']!='OXFORD RAILWAY STATION') & (aw_spain['Origin Airport']!='CLG') &\n",
    "(aw_spain['Origin Airport']!='CSL') & (aw_spain['Origin Airport']!='VTI') & (aw_spain['Origin Airport']!='SFU') &\n",
    "(aw_spain['Origin Airport']!='XRJ') & (aw_spain['Origin Airport']!='LCZ') & (aw_spain['Origin Airport']!='FDD') &\n",
    "(aw_spain['Origin Airport']!='MIL') & (aw_spain['Origin Airport Name']!='AMSTERDAM RAILWAY SERVICE') & (aw_spain['Origin Airport']!='UER') & \n",
    "(aw_spain['Origin Airport']!='FES') & (aw_spain['Origin Airport']!='ZEG')\n",
    "& (aw_spain['Origin Airport']!='XHJ')\n",
    "& (aw_spain['Origin Airport']!='NCM')\n",
    "& (aw_spain['Origin Airport']!='XJU')\n",
    "]"
   ]
  },
  {
   "cell_type": "code",
   "execution_count": null,
   "id": "40b6bebc-c5a0-4839-a04f-f0b1fff2d0a8",
   "metadata": {},
   "outputs": [],
   "source": [
    "aw_spain = aw_spain[(aw_spain['Destination Airport Name']!='FERRY PORT') & (aw_spain['Destination Airport Name']!='BERNE RAILWAY SERVICE') &\n",
    "(aw_spain['Destination City Name']!='RAILWAY - GERMANY') & (aw_spain['Destination Airport Name']!='COLOGNE HBF RAIL STATION') & \n",
    "(aw_spain['Destination Airport Name']!='SANTS RAILWAY STATION') & (aw_spain['Destination Airport Name']!='ATOCHA RAILWAY STATION') & \n",
    "(aw_spain['Destination Airport Name']!='LILLE EUROPE RAIL SERVICE') & (aw_spain['Destination City Name']!='ALGECIRAS') &\n",
    "(aw_spain['Destination Airport Name']!='SBB RAILWAY SERVICE') & (aw_spain['Destination Airport Name']!='STRASBOURG BUS STATION') & \n",
    "(aw_spain['Destination Airport Name']!='DELICIAS RAILWAY STATION') & (aw_spain['Destination Airport Name']!='RAILWAY STATION') &\n",
    "(aw_spain['Destination Airport Name']!='MIDI RAILWAY STATION') & (aw_spain['Destination Airport Name']!='HBF RAILWAY STATION') &\n",
    "(aw_spain['Destination Airport Name']!='VALENCIA RAILWAY STATION') & (aw_spain['Destination Airport Name']!='CHAMARTIN RAILWAY STATION') &\n",
    "(aw_spain['Destination Airport Name']!='EK BUS STATION') & (aw_spain['Destination Airport Name']!='TRAVEL MALL EY BUS STATION') &\n",
    "(aw_spain['Destination Airport Name']!='OTTAWA RAIL STATION') & (aw_spain['Destination Airport']!='RZG') & (aw_spain['Destination Airport']!='BQC') &\n",
    "(aw_spain['Destination Airport']!='XJN') & (aw_spain['Destination Airport Name']!='ARNHEM BUS STATION') &\n",
    "(aw_spain['Destination Airport Name']!='LEON RAILWAY STATION') & (aw_spain['Destination Airport']!='XJR') & \n",
    "(aw_spain['Destination Airport Name']!='LINZ HAUPTBAHNHOF RAIL STATION') & (aw_spain['Destination Airport']!='GBX') &\n",
    "(aw_spain['Destination Airport']!='EMU') & (aw_spain['Destination Airport Name']!='SANTA JUSTA RAILWAY STATION') & \n",
    "(aw_spain['Destination Airport Name']!='MAASTRICHT RAILWAY SERVICE') & (aw_spain['Destination Airport']!='LZB') &\n",
    "(aw_spain['Destination Airport Name']!='GARE DE RENNES RAIL STATION') & (aw_spain['Destination Airport']!='PFE') &\n",
    "(aw_spain['Destination Airport Name']!='ABU DHABI EK BUS STATION') & (aw_spain['Destination Airport']!='EXC') &\n",
    "(aw_spain['Destination Airport Name']!='ST-PIERRE-CORPS RAIL STATION') & (aw_spain['Destination Airport Name']!='KINGSTON RAIL STATION') &\n",
    "(aw_spain['Destination Airport Name']!='CENTRAL RAILWAY STATION') & (aw_spain['Destination Airport Name']!='NOTTINGHAM BUS STATION') &\n",
    "(aw_spain['Destination Airport Name']!='CADIZ RAILWAY STATION') & (aw_spain['Destination Airport Name']!='KARLSRUHE HBF RAILWAY STATION') &\n",
    "(aw_spain['Destination Airport']!='QYE') & (aw_spain['Destination Airport Name']!='LE MANS RAIL STATION') &\n",
    "(aw_spain['Destination Airport Name']!='NANTES RAILWAY SERVICE') & (aw_spain['Destination Airport Name']!='LORRAINE TGV RAIL STATION') &\n",
    "(aw_spain['Destination Airport']!='FBV') & (aw_spain['Destination Airport']!='ALV') & (aw_spain['Destination Airport Name']!='PART-DIEU RAILWAY STATION') &\n",
    "(aw_spain['Destination Airport Name']!='CENTRAAL RAILWAY STATION') & (aw_spain['Destination Airport']!='XZN') &\n",
    "(aw_spain['Destination Airport Name']!='SAINT PANCRAS INTL RAIL STATION') & (aw_spain['Destination Airport Name']!='TARRAGONA/CAMP RAIL STATION') &\n",
    "(aw_spain['Destination Airport Name']!='BUS STA}TION') & (aw_spain['Destination Airport Name']!='SABTCO BUS STATION') &\n",
    "(aw_spain['Destination Airport Name']!='OXFORD RAILWAY STATION') & (aw_spain['Destination Airport']!='CLG') &\n",
    "(aw_spain['Destination Airport']!='CSL') & (aw_spain['Destination Airport']!='VTI') & (aw_spain['Destination Airport']!='SFU') &\n",
    "(aw_spain['Destination Airport']!='XRJ') & (aw_spain['Destination Airport']!='LCZ') & (aw_spain['Destination Airport']!='FDD') &\n",
    "(aw_spain['Destination Airport']!='MIL') & (aw_spain['Destination Airport Name']!='AMSTERDAM RAILWAY SERVICE') & (aw_spain['Destination Airport']!='UER') & \n",
    "(aw_spain['Destination Airport']!='FES') & (aw_spain['Destination Airport']!='ZEG')\n",
    "& (aw_spain['Destination Airport']!='XHJ')\n",
    "& (aw_spain['Destination Airport']!='NCM')\n",
    "& (aw_spain['Destination Airport']!='XJU')\n",
    "& (aw_spain['Destination Airport']!='HSK')\n",
    "& (aw_spain['Destination Airport']!='PTE')\n",
    "& (aw_spain['Destination Airport']!='QYP')\n",
    "& (aw_spain['Destination Airport']!='JJU')\n",
    "& (aw_spain['Destination Airport']!='XJJ')\n",
    "& (aw_spain['Destination Airport']!='GJB')\n",
    "& (aw_spain['Destination Airport']!='QCE')\n",
    "& (aw_spain['Destination Airport']!='NAD')\n",
    "& (aw_spain['Destination Airport']!='DHS')\n",
    "& (aw_spain['Destination Airport']!='XIU')\n",
    "& (aw_spain['Destination Airport']!='OCD')\n",
    "& (aw_spain['Destination Airport']!='LGE')\n",
    "& (aw_spain['Destination Airport']!='NIZ')\n",
    "& (aw_spain['Destination Airport']!='NKK')\n",
    "& (aw_spain['Destination Airport']!='QWU')\n",
    "& (aw_spain['Destination Airport']!='TGL')\n",
    "& (aw_spain['Destination Airport']!='CLR')\n",
    "& (aw_spain['Destination Airport']!='GGY')\n",
    "& (aw_spain['Destination Airport']!='YJG')\n",
    "& (aw_spain['Destination Airport Name']!='INNSBRUCK RAILWAY STATION')\n",
    "& (aw_spain['Destination Airport Name']!='ST. THOMAS RAILWAY STATION')\n",
    "]"
   ]
  },
  {
   "cell_type": "code",
   "execution_count": null,
   "id": "ad82c70a-942e-4623-ba1f-f2a4cf7f0219",
   "metadata": {},
   "outputs": [],
   "source": [
    "aw_spain_demand = aw_spain.groupby(['Origin Airport', 'Destination Airport'])['Passengers'].sum().reset_index().sort_values(by='Passengers', ascending=False)\n",
    "aw_spain_demand.to_csv('../data/CS-ES-UPC/aw_spain_demand.csv', index=False)"
   ]
  },
  {
   "cell_type": "code",
   "execution_count": null,
   "id": "84db8645-f2c5-4fc4-a7cb-557beb240ce2",
   "metadata": {},
   "outputs": [],
   "source": [
    "df_iata_icao = pd.read_csv('../data/airports/IATA_ICAO_Airport_codes_updated.csv')\n",
    "# Create dictionary with IATA as keys and ICAO as values\n",
    "iata_icao_dict = dict(zip(df_iata_icao['IATA'], df_iata_icao['ICAO']))\n",
    "\n",
    "aw_spain_demand['origin'] = aw_spain_demand['Origin Airport'].apply(lambda x: iata_icao_dict.get(x,'NO') if x!='BJS' else 'PEK')\n",
    "aw_spain_demand['destination'] = aw_spain_demand['Destination Airport'].apply(lambda x: iata_icao_dict.get(x,'NO') if x!='BJS' else 'PEK')"
   ]
  },
  {
   "cell_type": "code",
   "execution_count": null,
   "id": "3aef17b6-c500-4e45-b176-8007c1fd9cea",
   "metadata": {},
   "outputs": [],
   "source": [
    "aw_spain[aw_spain['Origin Airport']\\\n",
    ".isin(list(aw_spain_demand[aw_spain_demand['origin']=='NO'][['Origin Airport']].drop_duplicates()['Origin Airport']))][['Origin Airport', 'Origin Airport Name', 'Origin City Name', 'Origin Country Name']].drop_duplicates()"
   ]
  },
  {
   "cell_type": "code",
   "execution_count": null,
   "id": "1318ff97-3ad3-45d6-9620-b8f6e2f2d1b3",
   "metadata": {},
   "outputs": [],
   "source": [
    "aw_spain[aw_spain['Destination Airport']\\\n",
    ".isin(list(aw_spain_demand[aw_spain_demand['destination']=='NO'][['Destination Airport']].drop_duplicates()['Destination Airport']))][['Destination Airport', 'Destination Airport Name', 'Destination City Name', 'Destination Country Name']].drop_duplicates()"
   ]
  },
  {
   "cell_type": "code",
   "execution_count": null,
   "id": "fe5ea26b-8f71-4f9d-8205-7a5edfff9553",
   "metadata": {},
   "outputs": [],
   "source": [
    "#Regroup by origin destination as come IATA code might be now the same (generic ariports)\n",
    "aw_spain_demand_icao = aw_spain_demand.groupby(['origin', 'destination'])['Passengers'].sum().reset_index().sort_values(by='Passengers', ascending=False)\n",
    "aw_spain_demand_icao.to_csv('../data/CS-ES-UPC/aw_spain_demand_icao.csv', index=False)"
   ]
  },
  {
   "cell_type": "code",
   "execution_count": null,
   "id": "de05093f-c206-46c4-a25f-c97a04aaa872",
   "metadata": {},
   "outputs": [],
   "source": [
    "aw_spain_demand_icao.Passengers.sum()"
   ]
  },
  {
   "cell_type": "code",
   "execution_count": null,
   "id": "40334620-44fd-4738-80dc-e957209c61f2",
   "metadata": {},
   "outputs": [],
   "source": [
    "aw_spain['origin'] = aw_spain['Origin Airport'].apply(lambda x: iata_icao_dict.get(x,'NO') if x!='BJS' else 'PEK')\n",
    "aw_spain['destination'] = aw_spain['Destination Airport'].apply(lambda x: iata_icao_dict.get(x,'NO') if x!='BJS' else 'PEK')"
   ]
  },
  {
   "cell_type": "code",
   "execution_count": null,
   "id": "c29b0a08-d1cc-4096-87ea-eb9a2692a43b",
   "metadata": {},
   "outputs": [],
   "source": [
    "aw_spain.to_csv('../data/CS-ES-UPC/aw_spain_itineraries_od.csv')"
   ]
  },
  {
   "cell_type": "code",
   "execution_count": null,
   "id": "3c640b3a-7f1f-4eb3-83b7-6c45b388a726",
   "metadata": {},
   "outputs": [],
   "source": []
  },
  {
   "cell_type": "code",
   "execution_count": null,
   "id": "097761c5-cc2a-4ebd-ad8d-3a33ca047308",
   "metadata": {},
   "outputs": [],
   "source": []
  },
  {
   "cell_type": "code",
   "execution_count": null,
   "id": "2696ae14-e871-4489-9898-daab8b17856d",
   "metadata": {},
   "outputs": [],
   "source": [
    "# Create demand\n",
    "df_regions_access = pd.read_csv('../data/CS-ES-UPC/v=0.1/infrastructure/regions_access_all.csv')\n",
    "\n",
    "df_regions_access = df_regions_access[(df_regions_access.layer=='air') & (df_regions_access.access_type=='access')]\n",
    "df_regions_access['airport_icao'] = df_regions_access['station'].apply(lambda x: iata_icao_dict.get(x,x))\n",
    "df_regions_access.sort_values(by='airport_icao').to_csv('../data/CS-ES-UPC/v=0.1/airports_regions.csv')\n",
    "# Manually edit the ariport and regions"
   ]
  },
  {
   "cell_type": "code",
   "execution_count": null,
   "id": "9b77894f-2654-434f-a655-bffcb1abdb67",
   "metadata": {},
   "outputs": [],
   "source": [
    "df_airport_regions = pd.read_csv('../data/CS-ES-UPC/v=0.1/airports_regions.csv')\n",
    "station_region_dict = dict(zip(df_airport_regions['airport_icao'], df_airport_regions['region']))\n"
   ]
  },
  {
   "cell_type": "code",
   "execution_count": null,
   "id": "4ddf5299-4ddb-41ae-be3e-f157bacf1c1e",
   "metadata": {},
   "outputs": [],
   "source": [
    "aw_spain_demand['origin_ICAO'] = aw_spain_demand['Origin Airport'].apply(lambda x: iata_icao_dict.get(x,x) if x!='BJS' else 'PEK')\n",
    "aw_spain_demand['destination_ICAO'] = aw_spain_demand['Destination Airport'].apply(lambda x: iata_icao_dict.get(x,x) if x!='BJS' else 'PEK')\n",
    "aw_spain_demand['origin'] = aw_spain_demand['origin_ICAO'].apply(lambda x: station_region_dict.get(x,x))\n",
    "aw_spain_demand['destination'] = aw_spain_demand['destination_ICAO'].apply(lambda x: station_region_dict.get(x,x))\n",
    "aw_spain_demand[['origin','destination','Passengers']].to_csv('../data/CS-ES-UPC/v=0.1/demand_from_AW_full.csv', index=False)\n",
    "aw_spain_demand[aw_spain_demand.Passengers>=100][['origin','destination','Passengers']].to_csv('../data/CS-ES-UPC/v=0.1/demand_from_AW_full_at_least_100pax.csv', index=False)\n",
    "\n"
   ]
  }
 ],
 "metadata": {
  "kernelspec": {
   "display_name": "mercury-mmx",
   "language": "python",
   "name": "mercury-mmx"
  },
  "language_info": {
   "codemirror_mode": {
    "name": "ipython",
    "version": 3
   },
   "file_extension": ".py",
   "mimetype": "text/x-python",
   "name": "python",
   "nbconvert_exporter": "python",
   "pygments_lexer": "ipython3",
   "version": "3.8.20"
  }
 },
 "nbformat": 4,
 "nbformat_minor": 5
}
