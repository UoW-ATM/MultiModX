{
 "cells": [
  {
   "cell_type": "code",
   "execution_count": null,
   "id": "54ab0bf8-d9ee-47f8-8492-53db93a3cf95",
   "metadata": {},
   "outputs": [],
   "source": [
    "import pandas as pd\n",
    "st = pd.read_csv('../data/gtfs/gtfs_es_20220708/stop_times.txt')\n",
    "cal_dates = pd.read_csv('../data/gtfs/gtfs_es_20220708/calendar_dates.txt')\n",
    "cal = pd.read_csv('../data/gtfs/gtfs_es_20220708/calendar.txt')\n",
    "trips = pd.read_csv('../data/gtfs/gtfs_es_20220708/trips.txt')"
   ]
  },
  {
   "cell_type": "code",
   "execution_count": null,
   "id": "587802db-8bb4-465e-972d-297c421f1a8e",
   "metadata": {},
   "outputs": [],
   "source": [
    "cal_dates"
   ]
  },
  {
   "cell_type": "code",
   "execution_count": null,
   "id": "5010371f-146e-4b71-b44e-2c676763b8f7",
   "metadata": {},
   "outputs": [],
   "source": [
    "import pandas as pd\n",
    "\n",
    "def get_trip_ids(df_stop_times, stop_orig, stop_dest):\n",
    "    # Filter rows that match either stop_orig or stop_dest\n",
    "    filtered_df = df_stop_times[df_stop_times['stop_id'].isin([stop_orig, stop_dest])]\n",
    "    \n",
    "    # Group by trip_id to ensure that both stops are present in the same trip\n",
    "    trip_groups = filtered_df.groupby('trip_id')\n",
    "    \n",
    "    # List to store the valid trip_ids\n",
    "    valid_trip_ids = []\n",
    "    \n",
    "    for trip_id, group in trip_groups:\n",
    "        # Sort by stop_sequence to ensure the order is correct\n",
    "        group_sorted = group.sort_values('stop_sequence')\n",
    "        \n",
    "        # Get the stops in this trip\n",
    "        stops_in_trip = group_sorted['stop_id'].tolist()\n",
    "        \n",
    "        # Check if the sequence of stops is correct\n",
    "        if stop_orig in stops_in_trip and stop_dest in stops_in_trip:\n",
    "            orig_index = stops_in_trip.index(stop_orig)\n",
    "            dest_index = stops_in_trip.index(stop_dest)\n",
    "            if orig_index < dest_index:\n",
    "                valid_trip_ids.append(trip_id)\n",
    "    \n",
    "    return valid_trip_ids\n",
    "\n",
    "trip_ids = get_trip_ids(st, stop_orig=71801, stop_dest=65000)\n",
    "print(trip_ids)\n"
   ]
  },
  {
   "cell_type": "code",
   "execution_count": null,
   "id": "d70ba294-b84f-43ed-a952-1b958fb03289",
   "metadata": {},
   "outputs": [],
   "source": [
    "cal"
   ]
  },
  {
   "cell_type": "code",
   "execution_count": null,
   "id": "3357da07-43cb-414e-aa2a-1063d9e7a42e",
   "metadata": {},
   "outputs": [],
   "source": [
    "print(len(trip_ids), len(trips[trips.trip_id.isin(trip_ids)]))\n",
    "\n",
    "cal[cal.service_id.isin(trips[trips.trip_id.isin(trip_ids)].service_id)]\n",
    "\n"
   ]
  }
 ],
 "metadata": {
  "kernelspec": {
   "display_name": "mercury-mmx",
   "language": "python",
   "name": "mercury-mmx"
  },
  "language_info": {
   "codemirror_mode": {
    "name": "ipython",
    "version": 3
   },
   "file_extension": ".py",
   "mimetype": "text/x-python",
   "name": "python",
   "nbconvert_exporter": "python",
   "pygments_lexer": "ipython3",
   "version": "3.8.19"
  }
 },
 "nbformat": 4,
 "nbformat_minor": 5
}
