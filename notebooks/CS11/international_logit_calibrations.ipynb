{
 "cells": [
  {
   "cell_type": "code",
   "execution_count": 1,
   "metadata": {},
   "outputs": [
    {
     "name": "stdout",
     "output_type": "stream",
     "text": [
      "C:\\Users\\LMENENDEZ\\GitHub\\MultiModX\n"
     ]
    }
   ],
   "source": [
    "import pandas as pd\n",
    "import os\n",
    "from ast import literal_eval\n",
    "import re\n",
    "\n",
    "pd.set_option('display.max_columns', None)\n",
    "os.chdir(r\"C:\\Users\\LMENENDEZ\\GitHub\\MultiModX\")\n",
    "print(os.getcwd())\n",
    "data_repository_path=r\"G:\\Unidades compartidas\\04_PROYECTOS I+D+i\\2307_SESAR3_MultiModX\\iii) Project\\WP3 Scenario definition\\Case study input data\\Spain+abroad\\CS11\""
   ]
  },
  {
   "cell_type": "code",
   "execution_count": 2,
   "metadata": {},
   "outputs": [],
   "source": [
    "%load_ext autoreload"
   ]
  },
  {
   "cell_type": "code",
   "execution_count": 48,
   "metadata": {},
   "outputs": [],
   "source": [
    "%autoreload\n",
    "from script.trips_format import *\n",
    "from strategic_evaluator.logit_model import *"
   ]
  },
  {
   "cell_type": "code",
   "execution_count": 4,
   "metadata": {},
   "outputs": [],
   "source": [
    "pre_calibration_matrix=pd.read_csv(r\".\\pre_calibration_matrix_CS11.csv\")"
   ]
  },
  {
   "cell_type": "code",
   "execution_count": 5,
   "metadata": {},
   "outputs": [
    {
     "data": {
      "text/html": [
       "<div>\n",
       "<style scoped>\n",
       "    .dataframe tbody tr th:only-of-type {\n",
       "        vertical-align: middle;\n",
       "    }\n",
       "\n",
       "    .dataframe tbody tr th {\n",
       "        vertical-align: top;\n",
       "    }\n",
       "\n",
       "    .dataframe thead th {\n",
       "        text-align: right;\n",
       "    }\n",
       "</style>\n",
       "<table border=\"1\" class=\"dataframe\">\n",
       "  <thead>\n",
       "    <tr style=\"text-align: right;\">\n",
       "      <th></th>\n",
       "      <th>origin</th>\n",
       "      <th>destination</th>\n",
       "      <th>node_sequence_ground</th>\n",
       "      <th>node_sequence_air</th>\n",
       "      <th>trips</th>\n",
       "      <th>trips_air</th>\n",
       "      <th>cost_air</th>\n",
       "      <th>distance_air</th>\n",
       "      <th>option_number</th>\n",
       "      <th>total_time_air</th>\n",
       "      <th>cost_ground</th>\n",
       "      <th>total_time_ground</th>\n",
       "      <th>emissions_ground</th>\n",
       "      <th>number_of_options_per_od</th>\n",
       "    </tr>\n",
       "  </thead>\n",
       "  <tbody>\n",
       "    <tr>\n",
       "      <th>0</th>\n",
       "      <td>ES111</td>\n",
       "      <td>BRUSSELS</td>\n",
       "      <td>access</td>\n",
       "      <td>['LEST', 'BRUSSELS']</td>\n",
       "      <td>43.0</td>\n",
       "      <td>50.443667</td>\n",
       "      <td>134.69</td>\n",
       "      <td>1559.5</td>\n",
       "      <td>1</td>\n",
       "      <td>104</td>\n",
       "      <td>0.0</td>\n",
       "      <td>53.0</td>\n",
       "      <td>0.0</td>\n",
       "      <td>2</td>\n",
       "    </tr>\n",
       "    <tr>\n",
       "      <th>1</th>\n",
       "      <td>ES111</td>\n",
       "      <td>BRUSSELS</td>\n",
       "      <td>access</td>\n",
       "      <td>['LEST', 'LEMD', 'BRUSSELS']</td>\n",
       "      <td>11.0</td>\n",
       "      <td>12.087667</td>\n",
       "      <td>134.69</td>\n",
       "      <td>1559.5</td>\n",
       "      <td>2</td>\n",
       "      <td>224</td>\n",
       "      <td>0.0</td>\n",
       "      <td>53.0</td>\n",
       "      <td>0.0</td>\n",
       "      <td>2</td>\n",
       "    </tr>\n",
       "    <tr>\n",
       "      <th>2</th>\n",
       "      <td>ES111</td>\n",
       "      <td>EDDM</td>\n",
       "      <td>access</td>\n",
       "      <td>['LEST', 'EDDM']</td>\n",
       "      <td>15.0</td>\n",
       "      <td>15.474000</td>\n",
       "      <td>213.24</td>\n",
       "      <td>1830.0</td>\n",
       "      <td>1</td>\n",
       "      <td>122</td>\n",
       "      <td>0.0</td>\n",
       "      <td>53.0</td>\n",
       "      <td>0.0</td>\n",
       "      <td>2</td>\n",
       "    </tr>\n",
       "    <tr>\n",
       "      <th>3</th>\n",
       "      <td>ES111</td>\n",
       "      <td>EDDM</td>\n",
       "      <td>access</td>\n",
       "      <td>['LEST', 'LEMD', 'EDDM']</td>\n",
       "      <td>10.0</td>\n",
       "      <td>12.387667</td>\n",
       "      <td>213.24</td>\n",
       "      <td>1830.0</td>\n",
       "      <td>2</td>\n",
       "      <td>242</td>\n",
       "      <td>0.0</td>\n",
       "      <td>53.0</td>\n",
       "      <td>0.0</td>\n",
       "      <td>2</td>\n",
       "    </tr>\n",
       "    <tr>\n",
       "      <th>4</th>\n",
       "      <td>ES111</td>\n",
       "      <td>EHAM</td>\n",
       "      <td>access</td>\n",
       "      <td>['LEST', 'EHAM']</td>\n",
       "      <td>46.0</td>\n",
       "      <td>50.568667</td>\n",
       "      <td>180.87</td>\n",
       "      <td>1691.0</td>\n",
       "      <td>1</td>\n",
       "      <td>113</td>\n",
       "      <td>0.0</td>\n",
       "      <td>53.0</td>\n",
       "      <td>0.0</td>\n",
       "      <td>4</td>\n",
       "    </tr>\n",
       "  </tbody>\n",
       "</table>\n",
       "</div>"
      ],
      "text/plain": [
       "  origin destination node_sequence_ground             node_sequence_air  \\\n",
       "0  ES111    BRUSSELS               access          ['LEST', 'BRUSSELS']   \n",
       "1  ES111    BRUSSELS               access  ['LEST', 'LEMD', 'BRUSSELS']   \n",
       "2  ES111        EDDM               access              ['LEST', 'EDDM']   \n",
       "3  ES111        EDDM               access      ['LEST', 'LEMD', 'EDDM']   \n",
       "4  ES111        EHAM               access              ['LEST', 'EHAM']   \n",
       "\n",
       "   trips  trips_air  cost_air  distance_air  option_number  total_time_air  \\\n",
       "0   43.0  50.443667    134.69        1559.5              1             104   \n",
       "1   11.0  12.087667    134.69        1559.5              2             224   \n",
       "2   15.0  15.474000    213.24        1830.0              1             122   \n",
       "3   10.0  12.387667    213.24        1830.0              2             242   \n",
       "4   46.0  50.568667    180.87        1691.0              1             113   \n",
       "\n",
       "   cost_ground  total_time_ground  emissions_ground  number_of_options_per_od  \n",
       "0          0.0               53.0               0.0                         2  \n",
       "1          0.0               53.0               0.0                         2  \n",
       "2          0.0               53.0               0.0                         2  \n",
       "3          0.0               53.0               0.0                         2  \n",
       "4          0.0               53.0               0.0                         4  "
      ]
     },
     "execution_count": 5,
     "metadata": {},
     "output_type": "execute_result"
    }
   ],
   "source": [
    "pre_calibration_matrix.head()"
   ]
  },
  {
   "cell_type": "markdown",
   "metadata": {},
   "source": [
    "before formatting, I will update the data for total time air and emissions air using itineraries calculated by the pipeline with no rail layer"
   ]
  },
  {
   "cell_type": "code",
   "execution_count": 6,
   "metadata": {},
   "outputs": [],
   "source": [
    "air_paths_costs=pd.read_csv(data_repository_path+r\"\\v=0.25\\output\\processed_cs11.pp00.no_rail_c2\\paths_itineraries\\possible_paths_avg_from_filtered_it_0.csv\")"
   ]
  },
  {
   "cell_type": "code",
   "execution_count": 7,
   "metadata": {},
   "outputs": [],
   "source": [
    "aw_paths=pd.read_csv(data_repository_path+r\"\\aw\\aw_paths_costs.csv\")"
   ]
  },
  {
   "cell_type": "code",
   "execution_count": 8,
   "metadata": {},
   "outputs": [],
   "source": [
    "# create an airport to city airport for international cities with more than 2 airports\n",
    "dict_1=dict(zip(aw_paths[aw_paths[\"origin\"]!=aw_paths[\"origin_city\"]][\"origin\"],aw_paths[aw_paths[\"origin\"]!=aw_paths[\"origin_city\"]][\"origin_city\"]))\n",
    "dict_2=dict(zip(aw_paths[aw_paths[\"destination\"]!=aw_paths[\"destination_city\"]][\"destination\"],aw_paths[aw_paths[\"destination\"]!=aw_paths[\"destination_city\"]][\"destination_city\"]))\n",
    "airport_to_city=dict_1 | dict_2"
   ]
  },
  {
   "cell_type": "code",
   "execution_count": 9,
   "metadata": {},
   "outputs": [
    {
     "name": "stdout",
     "output_type": "stream",
     "text": [
      "before groupby there were 1546 rows\n",
      "after groupby there were 1366 rows\n"
     ]
    }
   ],
   "source": [
    "print(f\"before groupby there were {air_paths_costs.shape[0]} rows\")\n",
    "air_paths_costs[\"path_list\"]=air_paths_costs[\"path\"].apply(literal_eval)\n",
    "# changes the first element of the path\n",
    "air_paths_costs[\"path_list\"]=air_paths_costs[\"path_list\"].apply(lambda lst: [airport_to_city[lst[0]]]+ lst[1:] if lst and lst[0] in airport_to_city.keys() else lst)\n",
    "# changes the last element of the path\n",
    "air_paths_costs[\"path_list\"]=air_paths_costs[\"path_list\"].apply(lambda lst: lst[:-1]+[airport_to_city[lst[-1]]] if lst and lst[-1] in airport_to_city.keys() else lst)\n",
    "# change the path\n",
    "air_paths_costs[\"path\"]=air_paths_costs[\"path_list\"].astype(str)\n",
    "air_paths_costs=air_paths_costs.groupby(by=[\"origin\",\"destination\",\"path\"]).agg({\n",
    "    \"total_avg_travel_time\":\"mean\",\n",
    "    \"total_avg_cost\":\"mean\",\n",
    "    \"total_avg_emissions\":\"mean\"\n",
    "    }\n",
    ").reset_index()\n",
    "print(f\"after groupby there were {air_paths_costs.shape[0]} rows\")"
   ]
  },
  {
   "cell_type": "code",
   "execution_count": 10,
   "metadata": {},
   "outputs": [
    {
     "data": {
      "text/html": [
       "<div>\n",
       "<style scoped>\n",
       "    .dataframe tbody tr th:only-of-type {\n",
       "        vertical-align: middle;\n",
       "    }\n",
       "\n",
       "    .dataframe tbody tr th {\n",
       "        vertical-align: top;\n",
       "    }\n",
       "\n",
       "    .dataframe thead th {\n",
       "        text-align: right;\n",
       "    }\n",
       "</style>\n",
       "<table border=\"1\" class=\"dataframe\">\n",
       "  <thead>\n",
       "    <tr style=\"text-align: right;\">\n",
       "      <th></th>\n",
       "      <th>origin</th>\n",
       "      <th>destination</th>\n",
       "      <th>path</th>\n",
       "      <th>total_avg_travel_time</th>\n",
       "      <th>total_avg_cost</th>\n",
       "      <th>total_avg_emissions</th>\n",
       "    </tr>\n",
       "  </thead>\n",
       "  <tbody>\n",
       "    <tr>\n",
       "      <th>1047</th>\n",
       "      <td>LEZL</td>\n",
       "      <td>LFBD</td>\n",
       "      <td>['LEZL', 'LEMD', 'LFBD']</td>\n",
       "      <td>291.666667</td>\n",
       "      <td>268.37</td>\n",
       "      <td>124.963333</td>\n",
       "    </tr>\n",
       "    <tr>\n",
       "      <th>502</th>\n",
       "      <td>LEBL</td>\n",
       "      <td>DUESSELDORF</td>\n",
       "      <td>['LEBL', 'DUESSELDORF']</td>\n",
       "      <td>173.750000</td>\n",
       "      <td>185.62</td>\n",
       "      <td>75.835000</td>\n",
       "    </tr>\n",
       "  </tbody>\n",
       "</table>\n",
       "</div>"
      ],
      "text/plain": [
       "     origin  destination                      path  total_avg_travel_time  \\\n",
       "1047   LEZL         LFBD  ['LEZL', 'LEMD', 'LFBD']             291.666667   \n",
       "502    LEBL  DUESSELDORF   ['LEBL', 'DUESSELDORF']             173.750000   \n",
       "\n",
       "      total_avg_cost  total_avg_emissions  \n",
       "1047          268.37           124.963333  \n",
       "502           185.62            75.835000  "
      ]
     },
     "execution_count": 10,
     "metadata": {},
     "output_type": "execute_result"
    }
   ],
   "source": [
    "air_paths_costs.sample(2)"
   ]
  },
  {
   "cell_type": "code",
   "execution_count": 11,
   "metadata": {},
   "outputs": [
    {
     "data": {
      "text/html": [
       "<div>\n",
       "<style scoped>\n",
       "    .dataframe tbody tr th:only-of-type {\n",
       "        vertical-align: middle;\n",
       "    }\n",
       "\n",
       "    .dataframe tbody tr th {\n",
       "        vertical-align: top;\n",
       "    }\n",
       "\n",
       "    .dataframe thead th {\n",
       "        text-align: right;\n",
       "    }\n",
       "</style>\n",
       "<table border=\"1\" class=\"dataframe\">\n",
       "  <thead>\n",
       "    <tr style=\"text-align: right;\">\n",
       "      <th></th>\n",
       "      <th>origin</th>\n",
       "      <th>destination</th>\n",
       "      <th>node_sequence_ground</th>\n",
       "      <th>node_sequence_air</th>\n",
       "      <th>trips</th>\n",
       "      <th>trips_air</th>\n",
       "      <th>cost_air</th>\n",
       "      <th>distance_air</th>\n",
       "      <th>option_number</th>\n",
       "      <th>total_time_air</th>\n",
       "      <th>cost_ground</th>\n",
       "      <th>total_time_ground</th>\n",
       "      <th>emissions_ground</th>\n",
       "      <th>number_of_options_per_od</th>\n",
       "    </tr>\n",
       "  </thead>\n",
       "  <tbody>\n",
       "    <tr>\n",
       "      <th>1622</th>\n",
       "      <td>MILAN</td>\n",
       "      <td>ES521</td>\n",
       "      <td>egress</td>\n",
       "      <td>['MILAN', 'LEVC']</td>\n",
       "      <td>22.0</td>\n",
       "      <td>474.599333</td>\n",
       "      <td>86.437303</td>\n",
       "      <td>1054.817724</td>\n",
       "      <td>2</td>\n",
       "      <td>70</td>\n",
       "      <td>0.0</td>\n",
       "      <td>144.0</td>\n",
       "      <td>0.0</td>\n",
       "      <td>3</td>\n",
       "    </tr>\n",
       "    <tr>\n",
       "      <th>440</th>\n",
       "      <td>ES612</td>\n",
       "      <td>EKCH</td>\n",
       "      <td>access</td>\n",
       "      <td>['LEMG', 'EKCH']</td>\n",
       "      <td>17.0</td>\n",
       "      <td>677.292333</td>\n",
       "      <td>122.350000</td>\n",
       "      <td>2472.000000</td>\n",
       "      <td>1</td>\n",
       "      <td>165</td>\n",
       "      <td>0.0</td>\n",
       "      <td>171.0</td>\n",
       "      <td>0.0</td>\n",
       "      <td>2</td>\n",
       "    </tr>\n",
       "  </tbody>\n",
       "</table>\n",
       "</div>"
      ],
      "text/plain": [
       "     origin destination node_sequence_ground  node_sequence_air  trips  \\\n",
       "1622  MILAN       ES521               egress  ['MILAN', 'LEVC']   22.0   \n",
       "440   ES612        EKCH               access   ['LEMG', 'EKCH']   17.0   \n",
       "\n",
       "       trips_air    cost_air  distance_air  option_number  total_time_air  \\\n",
       "1622  474.599333   86.437303   1054.817724              2              70   \n",
       "440   677.292333  122.350000   2472.000000              1             165   \n",
       "\n",
       "      cost_ground  total_time_ground  emissions_ground  \\\n",
       "1622          0.0              144.0               0.0   \n",
       "440           0.0              171.0               0.0   \n",
       "\n",
       "      number_of_options_per_od  \n",
       "1622                         3  \n",
       "440                          2  "
      ]
     },
     "execution_count": 11,
     "metadata": {},
     "output_type": "execute_result"
    }
   ],
   "source": [
    "pre_calibration_matrix.sample(2)"
   ]
  },
  {
   "cell_type": "code",
   "execution_count": 12,
   "metadata": {},
   "outputs": [
    {
     "name": "stdout",
     "output_type": "stream",
     "text": [
      "before the merge there were 2387 rows and 159708.0 trips\n",
      "after the merge there are 1829 rows and 148263.0 trips\n"
     ]
    }
   ],
   "source": [
    "print(f\"before the merge there were {pre_calibration_matrix.shape[0]} rows and {pre_calibration_matrix[\"trips\"].sum()} trips\")\n",
    "pre_calibration_matrix=pd.merge(left=pre_calibration_matrix,\n",
    "                                right=air_paths_costs,\n",
    "                                left_on=[\"node_sequence_air\"],\n",
    "                                right_on=[\"path\"],\n",
    "                                how=\"inner\")\n",
    "print(f\"after the merge there are {pre_calibration_matrix.shape[0]} rows and {pre_calibration_matrix[\"trips\"].sum()} trips\")"
   ]
  },
  {
   "cell_type": "code",
   "execution_count": 13,
   "metadata": {},
   "outputs": [],
   "source": [
    "pre_calibration_matrix=pre_calibration_matrix.drop(columns=[\"origin_y\",\"destination_y\"])\n",
    "pre_calibration_matrix[\"total_time_air\"]=pre_calibration_matrix[\"total_avg_travel_time\"]\n",
    "pre_calibration_matrix[\"cost_air\"]=pre_calibration_matrix[\"total_avg_cost\"]\n",
    "pre_calibration_matrix=pre_calibration_matrix.rename(columns={\"total_avg_emissions\":\"emissions_air\",\n",
    "                                       \"origin_x\":\"origin\",\n",
    "                                       \"destination_x\":\"destination\"\n",
    "                                       })\n",
    "pre_calibration_matrix=pre_calibration_matrix.drop(columns=[\"total_avg_travel_time\",\"total_avg_cost\"])"
   ]
  },
  {
   "cell_type": "markdown",
   "metadata": {},
   "source": [
    "Some trips are lost in the merge, but that is fine I guess"
   ]
  },
  {
   "cell_type": "code",
   "execution_count": 14,
   "metadata": {},
   "outputs": [
    {
     "data": {
      "text/plain": [
       "np.float64(137570.0)"
      ]
     },
     "execution_count": 14,
     "metadata": {},
     "output_type": "execute_result"
    }
   ],
   "source": [
    "pre_calibration_matrix[pre_calibration_matrix[\"number_of_options_per_od\"]<=3][\"trips\"].sum()"
   ]
  },
  {
   "cell_type": "code",
   "execution_count": 15,
   "metadata": {},
   "outputs": [
    {
     "data": {
      "text/plain": [
       "np.float64(10693.0)"
      ]
     },
     "execution_count": 15,
     "metadata": {},
     "output_type": "execute_result"
    }
   ],
   "source": [
    "pre_calibration_matrix[pre_calibration_matrix[\"number_of_options_per_od\"]>3][\"trips\"].sum()"
   ]
  },
  {
   "cell_type": "markdown",
   "metadata": {},
   "source": [
    "Since most trips have 3 options or less, I will stay with only these"
   ]
  },
  {
   "cell_type": "code",
   "execution_count": 16,
   "metadata": {},
   "outputs": [],
   "source": [
    "def preformat_trips_logit(trips):\n",
    "    # calculate quantities that will be used for calibration\n",
    "    trips[\"total_travel_time\"]=trips[\"total_time_air\"]+trips[\"total_time_ground\"]\n",
    "    trips[\"total_cost\"]=trips[\"cost_air\"]+trips[\"cost_ground\"]\n",
    "    trips[\"total_emissions\"]=trips[\"emissions_ground\"]+trips[\"emissions_air\"] #ADD EMISSIONS AIR WHEN I HAVE THEM\n",
    "    \n",
    "    # construct path for trips whose node_sequence_ground is only access or egress\n",
    "    trips.loc[trips[\"node_sequence_ground\"].isin([\"access\",\"egress\"]),\"path\"]=trips[\"node_sequence_air\"]\n",
    "\n",
    "    # filter for trips leaving spain and having non-trivial ground sequence\n",
    "    filter_leaving=~(trips[\"node_sequence_ground\"].isin([\"access\",\"egress\"]))& trips[\"origin\"].str.startswith(\"ES\") & trips[\"origin\"].str[2].str.isdigit()\n",
    "    trips.loc[filter_leaving,\"path_list\"]=trips.loc[filter_leaving,\"node_sequence_ground\"].apply(ast.literal_eval) + trips.loc[filter_leaving,\"node_sequence_air\"].apply(ast.literal_eval)\n",
    "    \n",
    "    # filter for trips incoming with non-trivial ground sequence\n",
    "    filter_incoming=~(trips[\"node_sequence_ground\"].isin([\"access\",\"egress\"]))& trips[\"destination\"].str.startswith(\"ES\") & trips[\"destination\"].str[2].str.isdigit()\n",
    "    trips.loc[filter_incoming,\"path_list\"]=trips.loc[filter_incoming,\"node_sequence_air\"].apply(ast.literal_eval) + trips.loc[filter_incoming,\"node_sequence_ground\"].apply(ast.literal_eval)\n",
    "\n",
    "    # filter all trips with only access or egress as ground sequence\n",
    "    condition=~(trips[\"node_sequence_ground\"].isin([\"access\", \"egress\"]))\n",
    "    trips.loc[condition, \"path\"] = trips.loc[condition,\"path_list\"].apply(str)\n",
    "    \n",
    "    #drop useless columns\n",
    "    trips=trips.drop(columns=[\"trips_air\",\"option_number\",\"number_of_options_per_od\",\"total_time_ground\",\"total_time_air\",\"emissions_ground\",\"emissions_air\",\"cost_air\",\"cost_ground\",\"distance_air\",\"node_sequence_ground\",\"node_sequence_air\",\"path_list\"])\n",
    "    return trips"
   ]
  },
  {
   "cell_type": "code",
   "execution_count": 17,
   "metadata": {},
   "outputs": [],
   "source": [
    "trips_logit=preformat_trips_logit(pre_calibration_matrix)"
   ]
  },
  {
   "cell_type": "code",
   "execution_count": 18,
   "metadata": {},
   "outputs": [
    {
     "data": {
      "text/html": [
       "<div>\n",
       "<style scoped>\n",
       "    .dataframe tbody tr th:only-of-type {\n",
       "        vertical-align: middle;\n",
       "    }\n",
       "\n",
       "    .dataframe tbody tr th {\n",
       "        vertical-align: top;\n",
       "    }\n",
       "\n",
       "    .dataframe thead th {\n",
       "        text-align: right;\n",
       "    }\n",
       "</style>\n",
       "<table border=\"1\" class=\"dataframe\">\n",
       "  <thead>\n",
       "    <tr style=\"text-align: right;\">\n",
       "      <th></th>\n",
       "      <th>origin</th>\n",
       "      <th>destination</th>\n",
       "      <th>trips</th>\n",
       "      <th>path</th>\n",
       "      <th>total_travel_time</th>\n",
       "      <th>total_cost</th>\n",
       "      <th>total_emissions</th>\n",
       "    </tr>\n",
       "  </thead>\n",
       "  <tbody>\n",
       "    <tr>\n",
       "      <th>0</th>\n",
       "      <td>ES111</td>\n",
       "      <td>BRUSSELS</td>\n",
       "      <td>11.0</td>\n",
       "      <td>['LEST', 'LEMD', 'BRUSSELS']</td>\n",
       "      <td>355.0</td>\n",
       "      <td>329.65</td>\n",
       "      <td>146.532</td>\n",
       "    </tr>\n",
       "    <tr>\n",
       "      <th>1</th>\n",
       "      <td>ES111</td>\n",
       "      <td>EDDM</td>\n",
       "      <td>10.0</td>\n",
       "      <td>['LEST', 'LEMD', 'EDDM']</td>\n",
       "      <td>346.0</td>\n",
       "      <td>338.61</td>\n",
       "      <td>151.576</td>\n",
       "    </tr>\n",
       "    <tr>\n",
       "      <th>2</th>\n",
       "      <td>ES111</td>\n",
       "      <td>EHAM</td>\n",
       "      <td>14.0</td>\n",
       "      <td>['LECO', 'LEMD', 'EHAM']</td>\n",
       "      <td>330.0</td>\n",
       "      <td>339.09</td>\n",
       "      <td>131.420</td>\n",
       "    </tr>\n",
       "  </tbody>\n",
       "</table>\n",
       "</div>"
      ],
      "text/plain": [
       "  origin destination  trips                          path  total_travel_time  \\\n",
       "0  ES111    BRUSSELS   11.0  ['LEST', 'LEMD', 'BRUSSELS']              355.0   \n",
       "1  ES111        EDDM   10.0      ['LEST', 'LEMD', 'EDDM']              346.0   \n",
       "2  ES111        EHAM   14.0      ['LECO', 'LEMD', 'EHAM']              330.0   \n",
       "\n",
       "   total_cost  total_emissions  \n",
       "0      329.65          146.532  \n",
       "1      338.61          151.576  \n",
       "2      339.09          131.420  "
      ]
     },
     "execution_count": 18,
     "metadata": {},
     "output_type": "execute_result"
    }
   ],
   "source": [
    "trips_logit.head(3)"
   ]
  },
  {
   "cell_type": "code",
   "execution_count": 19,
   "metadata": {},
   "outputs": [],
   "source": [
    "def add_pax_processes(trips):\n",
    "\n",
    "    incoming_trips_pattern=trips[\"origin\"].str.isalpha()\n",
    "    train_station_pattern=trips[\"path\"].str.contains(r\"\\d\",regex=True)\n",
    "    # +30 minutes for passengers exiting the airport \n",
    "    trips[incoming_trips_pattern][\"total_travel_time\"]+=30\n",
    "    # +15 minutes to transfer from airport to a train station\n",
    "    trips[(incoming_trips_pattern)&train_station_pattern][\"total_travel_time\"]+=15\n",
    "    # +90 minutes for passengers going to an airport \n",
    "    trips[~incoming_trips_pattern][\"total_travel_time\"]+=90\n",
    "    # +10 minutes for passengers leaving a train station\n",
    "    trips[(~incoming_trips_pattern)&train_station_pattern][\"total_travel_time\"]+=10\n",
    "    return trips\n"
   ]
  },
  {
   "cell_type": "code",
   "execution_count": 20,
   "metadata": {},
   "outputs": [
    {
     "name": "stderr",
     "output_type": "stream",
     "text": [
      "C:\\Users\\LMENENDEZ\\AppData\\Local\\Temp\\ipykernel_12132\\5192576.py:6: FutureWarning: ChainedAssignmentError: behaviour will change in pandas 3.0!\n",
      "You are setting values through chained assignment. Currently this works in certain cases, but when using Copy-on-Write (which will become the default behaviour in pandas 3.0) this will never work to update the original DataFrame or Series, because the intermediate object on which we are setting values will behave as a copy.\n",
      "A typical example is when you are setting values in a column of a DataFrame, like:\n",
      "\n",
      "df[\"col\"][row_indexer] = value\n",
      "\n",
      "Use `df.loc[row_indexer, \"col\"] = values` instead, to perform the assignment in a single step and ensure this keeps updating the original `df`.\n",
      "\n",
      "See the caveats in the documentation: https://pandas.pydata.org/pandas-docs/stable/user_guide/indexing.html#returning-a-view-versus-a-copy\n",
      "\n",
      "  trips[incoming_trips_pattern][\"total_travel_time\"]+=30\n",
      "C:\\Users\\LMENENDEZ\\AppData\\Local\\Temp\\ipykernel_12132\\5192576.py:6: SettingWithCopyWarning: \n",
      "A value is trying to be set on a copy of a slice from a DataFrame.\n",
      "Try using .loc[row_indexer,col_indexer] = value instead\n",
      "\n",
      "See the caveats in the documentation: https://pandas.pydata.org/pandas-docs/stable/user_guide/indexing.html#returning-a-view-versus-a-copy\n",
      "  trips[incoming_trips_pattern][\"total_travel_time\"]+=30\n",
      "C:\\Users\\LMENENDEZ\\AppData\\Local\\Temp\\ipykernel_12132\\5192576.py:8: FutureWarning: ChainedAssignmentError: behaviour will change in pandas 3.0!\n",
      "You are setting values through chained assignment. Currently this works in certain cases, but when using Copy-on-Write (which will become the default behaviour in pandas 3.0) this will never work to update the original DataFrame or Series, because the intermediate object on which we are setting values will behave as a copy.\n",
      "A typical example is when you are setting values in a column of a DataFrame, like:\n",
      "\n",
      "df[\"col\"][row_indexer] = value\n",
      "\n",
      "Use `df.loc[row_indexer, \"col\"] = values` instead, to perform the assignment in a single step and ensure this keeps updating the original `df`.\n",
      "\n",
      "See the caveats in the documentation: https://pandas.pydata.org/pandas-docs/stable/user_guide/indexing.html#returning-a-view-versus-a-copy\n",
      "\n",
      "  trips[(incoming_trips_pattern)&train_station_pattern][\"total_travel_time\"]+=15\n",
      "C:\\Users\\LMENENDEZ\\AppData\\Local\\Temp\\ipykernel_12132\\5192576.py:8: SettingWithCopyWarning: \n",
      "A value is trying to be set on a copy of a slice from a DataFrame.\n",
      "Try using .loc[row_indexer,col_indexer] = value instead\n",
      "\n",
      "See the caveats in the documentation: https://pandas.pydata.org/pandas-docs/stable/user_guide/indexing.html#returning-a-view-versus-a-copy\n",
      "  trips[(incoming_trips_pattern)&train_station_pattern][\"total_travel_time\"]+=15\n",
      "C:\\Users\\LMENENDEZ\\AppData\\Local\\Temp\\ipykernel_12132\\5192576.py:10: FutureWarning: ChainedAssignmentError: behaviour will change in pandas 3.0!\n",
      "You are setting values through chained assignment. Currently this works in certain cases, but when using Copy-on-Write (which will become the default behaviour in pandas 3.0) this will never work to update the original DataFrame or Series, because the intermediate object on which we are setting values will behave as a copy.\n",
      "A typical example is when you are setting values in a column of a DataFrame, like:\n",
      "\n",
      "df[\"col\"][row_indexer] = value\n",
      "\n",
      "Use `df.loc[row_indexer, \"col\"] = values` instead, to perform the assignment in a single step and ensure this keeps updating the original `df`.\n",
      "\n",
      "See the caveats in the documentation: https://pandas.pydata.org/pandas-docs/stable/user_guide/indexing.html#returning-a-view-versus-a-copy\n",
      "\n",
      "  trips[~incoming_trips_pattern][\"total_travel_time\"]+=90\n",
      "C:\\Users\\LMENENDEZ\\AppData\\Local\\Temp\\ipykernel_12132\\5192576.py:10: SettingWithCopyWarning: \n",
      "A value is trying to be set on a copy of a slice from a DataFrame.\n",
      "Try using .loc[row_indexer,col_indexer] = value instead\n",
      "\n",
      "See the caveats in the documentation: https://pandas.pydata.org/pandas-docs/stable/user_guide/indexing.html#returning-a-view-versus-a-copy\n",
      "  trips[~incoming_trips_pattern][\"total_travel_time\"]+=90\n",
      "C:\\Users\\LMENENDEZ\\AppData\\Local\\Temp\\ipykernel_12132\\5192576.py:12: FutureWarning: ChainedAssignmentError: behaviour will change in pandas 3.0!\n",
      "You are setting values through chained assignment. Currently this works in certain cases, but when using Copy-on-Write (which will become the default behaviour in pandas 3.0) this will never work to update the original DataFrame or Series, because the intermediate object on which we are setting values will behave as a copy.\n",
      "A typical example is when you are setting values in a column of a DataFrame, like:\n",
      "\n",
      "df[\"col\"][row_indexer] = value\n",
      "\n",
      "Use `df.loc[row_indexer, \"col\"] = values` instead, to perform the assignment in a single step and ensure this keeps updating the original `df`.\n",
      "\n",
      "See the caveats in the documentation: https://pandas.pydata.org/pandas-docs/stable/user_guide/indexing.html#returning-a-view-versus-a-copy\n",
      "\n",
      "  trips[(~incoming_trips_pattern)&train_station_pattern][\"total_travel_time\"]+=10\n",
      "C:\\Users\\LMENENDEZ\\AppData\\Local\\Temp\\ipykernel_12132\\5192576.py:12: SettingWithCopyWarning: \n",
      "A value is trying to be set on a copy of a slice from a DataFrame.\n",
      "Try using .loc[row_indexer,col_indexer] = value instead\n",
      "\n",
      "See the caveats in the documentation: https://pandas.pydata.org/pandas-docs/stable/user_guide/indexing.html#returning-a-view-versus-a-copy\n",
      "  trips[(~incoming_trips_pattern)&train_station_pattern][\"total_travel_time\"]+=10\n"
     ]
    }
   ],
   "source": [
    "trips_logit=add_pax_processes(trips_logit)"
   ]
  },
  {
   "cell_type": "code",
   "execution_count": 21,
   "metadata": {},
   "outputs": [
    {
     "data": {
      "text/html": [
       "<div>\n",
       "<style scoped>\n",
       "    .dataframe tbody tr th:only-of-type {\n",
       "        vertical-align: middle;\n",
       "    }\n",
       "\n",
       "    .dataframe tbody tr th {\n",
       "        vertical-align: top;\n",
       "    }\n",
       "\n",
       "    .dataframe thead th {\n",
       "        text-align: right;\n",
       "    }\n",
       "</style>\n",
       "<table border=\"1\" class=\"dataframe\">\n",
       "  <thead>\n",
       "    <tr style=\"text-align: right;\">\n",
       "      <th></th>\n",
       "      <th>origin</th>\n",
       "      <th>destination</th>\n",
       "      <th>trips</th>\n",
       "      <th>path</th>\n",
       "      <th>total_travel_time</th>\n",
       "      <th>total_cost</th>\n",
       "      <th>total_emissions</th>\n",
       "    </tr>\n",
       "  </thead>\n",
       "  <tbody>\n",
       "    <tr>\n",
       "      <th>238</th>\n",
       "      <td>ES511</td>\n",
       "      <td>EVRA</td>\n",
       "      <td>130.0</td>\n",
       "      <td>['LEBL', 'EVRA']</td>\n",
       "      <td>255.5</td>\n",
       "      <td>236.530</td>\n",
       "      <td>144.935000</td>\n",
       "    </tr>\n",
       "    <tr>\n",
       "      <th>1405</th>\n",
       "      <td>OMAA</td>\n",
       "      <td>ES425</td>\n",
       "      <td>1.0</td>\n",
       "      <td>['OMAA', 'LEMD', '007160000', '007192102']</td>\n",
       "      <td>588.0</td>\n",
       "      <td>327.740</td>\n",
       "      <td>620.870000</td>\n",
       "    </tr>\n",
       "    <tr>\n",
       "      <th>393</th>\n",
       "      <td>ES613</td>\n",
       "      <td>MILAN</td>\n",
       "      <td>9.0</td>\n",
       "      <td>['LEMG', 'MILAN']</td>\n",
       "      <td>321.0</td>\n",
       "      <td>203.285</td>\n",
       "      <td>92.713333</td>\n",
       "    </tr>\n",
       "    <tr>\n",
       "      <th>113</th>\n",
       "      <td>ES611</td>\n",
       "      <td>EHRD</td>\n",
       "      <td>1.0</td>\n",
       "      <td>['LEAL', 'EHRD']</td>\n",
       "      <td>364.0</td>\n",
       "      <td>205.730</td>\n",
       "      <td>94.040000</td>\n",
       "    </tr>\n",
       "    <tr>\n",
       "      <th>327</th>\n",
       "      <td>ES612</td>\n",
       "      <td>EGPH</td>\n",
       "      <td>12.0</td>\n",
       "      <td>['LEMG', 'EGPH']</td>\n",
       "      <td>373.5</td>\n",
       "      <td>229.520</td>\n",
       "      <td>126.110000</td>\n",
       "    </tr>\n",
       "  </tbody>\n",
       "</table>\n",
       "</div>"
      ],
      "text/plain": [
       "     origin destination  trips                                        path  \\\n",
       "238   ES511        EVRA  130.0                            ['LEBL', 'EVRA']   \n",
       "1405   OMAA       ES425    1.0  ['OMAA', 'LEMD', '007160000', '007192102']   \n",
       "393   ES613       MILAN    9.0                           ['LEMG', 'MILAN']   \n",
       "113   ES611        EHRD    1.0                            ['LEAL', 'EHRD']   \n",
       "327   ES612        EGPH   12.0                            ['LEMG', 'EGPH']   \n",
       "\n",
       "      total_travel_time  total_cost  total_emissions  \n",
       "238               255.5     236.530       144.935000  \n",
       "1405              588.0     327.740       620.870000  \n",
       "393               321.0     203.285        92.713333  \n",
       "113               364.0     205.730        94.040000  \n",
       "327               373.5     229.520       126.110000  "
      ]
     },
     "execution_count": 21,
     "metadata": {},
     "output_type": "execute_result"
    }
   ],
   "source": [
    "trips_logit.sample(5)"
   ]
  },
  {
   "cell_type": "code",
   "execution_count": 22,
   "metadata": {},
   "outputs": [
    {
     "data": {
      "text/html": [
       "<div>\n",
       "<style scoped>\n",
       "    .dataframe tbody tr th:only-of-type {\n",
       "        vertical-align: middle;\n",
       "    }\n",
       "\n",
       "    .dataframe tbody tr th {\n",
       "        vertical-align: top;\n",
       "    }\n",
       "\n",
       "    .dataframe thead th {\n",
       "        text-align: right;\n",
       "    }\n",
       "</style>\n",
       "<table border=\"1\" class=\"dataframe\">\n",
       "  <thead>\n",
       "    <tr style=\"text-align: right;\">\n",
       "      <th></th>\n",
       "      <th>origin</th>\n",
       "      <th>destination</th>\n",
       "      <th>trips</th>\n",
       "      <th>path</th>\n",
       "      <th>total_travel_time</th>\n",
       "      <th>total_cost</th>\n",
       "      <th>total_emissions</th>\n",
       "    </tr>\n",
       "  </thead>\n",
       "  <tbody>\n",
       "    <tr>\n",
       "      <th>0</th>\n",
       "      <td>ES111</td>\n",
       "      <td>BRUSSELS</td>\n",
       "      <td>11.0</td>\n",
       "      <td>['LEST', 'LEMD', 'BRUSSELS']</td>\n",
       "      <td>355.000000</td>\n",
       "      <td>329.65</td>\n",
       "      <td>146.532000</td>\n",
       "    </tr>\n",
       "    <tr>\n",
       "      <th>1</th>\n",
       "      <td>ES111</td>\n",
       "      <td>EDDM</td>\n",
       "      <td>10.0</td>\n",
       "      <td>['LEST', 'LEMD', 'EDDM']</td>\n",
       "      <td>346.000000</td>\n",
       "      <td>338.61</td>\n",
       "      <td>151.576000</td>\n",
       "    </tr>\n",
       "    <tr>\n",
       "      <th>2</th>\n",
       "      <td>ES111</td>\n",
       "      <td>EHAM</td>\n",
       "      <td>14.0</td>\n",
       "      <td>['LECO', 'LEMD', 'EHAM']</td>\n",
       "      <td>330.000000</td>\n",
       "      <td>339.09</td>\n",
       "      <td>131.420000</td>\n",
       "    </tr>\n",
       "    <tr>\n",
       "      <th>3</th>\n",
       "      <td>ES111</td>\n",
       "      <td>EHAM</td>\n",
       "      <td>11.0</td>\n",
       "      <td>['LEST', 'LEMD', 'EHAM']</td>\n",
       "      <td>339.666667</td>\n",
       "      <td>336.75</td>\n",
       "      <td>137.666667</td>\n",
       "    </tr>\n",
       "    <tr>\n",
       "      <th>4</th>\n",
       "      <td>ES111</td>\n",
       "      <td>EHAM</td>\n",
       "      <td>4.0</td>\n",
       "      <td>['LEVX', 'LEMD', 'EHAM']</td>\n",
       "      <td>403.000000</td>\n",
       "      <td>334.85</td>\n",
       "      <td>143.948000</td>\n",
       "    </tr>\n",
       "    <tr>\n",
       "      <th>...</th>\n",
       "      <td>...</td>\n",
       "      <td>...</td>\n",
       "      <td>...</td>\n",
       "      <td>...</td>\n",
       "      <td>...</td>\n",
       "      <td>...</td>\n",
       "      <td>...</td>\n",
       "    </tr>\n",
       "    <tr>\n",
       "      <th>1824</th>\n",
       "      <td>ES243</td>\n",
       "      <td>VENICE</td>\n",
       "      <td>1.0</td>\n",
       "      <td>['007104040', '007171801', 'LEBL', 'VENICE']</td>\n",
       "      <td>354.522727</td>\n",
       "      <td>196.53</td>\n",
       "      <td>72.247500</td>\n",
       "    </tr>\n",
       "    <tr>\n",
       "      <th>1825</th>\n",
       "      <td>ES211</td>\n",
       "      <td>EDDK</td>\n",
       "      <td>12.0</td>\n",
       "      <td>['LEVT', 'EDDK']</td>\n",
       "      <td>141.000000</td>\n",
       "      <td>185.17</td>\n",
       "      <td>73.110000</td>\n",
       "    </tr>\n",
       "    <tr>\n",
       "      <th>1826</th>\n",
       "      <td>ES211</td>\n",
       "      <td>LPPR</td>\n",
       "      <td>3.0</td>\n",
       "      <td>['LEBB', 'LPPR']</td>\n",
       "      <td>131.000000</td>\n",
       "      <td>140.55</td>\n",
       "      <td>46.110000</td>\n",
       "    </tr>\n",
       "    <tr>\n",
       "      <th>1827</th>\n",
       "      <td>ES211</td>\n",
       "      <td>MILAN</td>\n",
       "      <td>12.0</td>\n",
       "      <td>['LEBB', 'MILAN']</td>\n",
       "      <td>196.000000</td>\n",
       "      <td>173.01</td>\n",
       "      <td>67.010000</td>\n",
       "    </tr>\n",
       "    <tr>\n",
       "      <th>1828</th>\n",
       "      <td>ES211</td>\n",
       "      <td>MILAN</td>\n",
       "      <td>1.0</td>\n",
       "      <td>['007111208', '007117000', 'LEMD', 'MILAN']</td>\n",
       "      <td>439.083333</td>\n",
       "      <td>212.05</td>\n",
       "      <td>89.467000</td>\n",
       "    </tr>\n",
       "  </tbody>\n",
       "</table>\n",
       "<p>1829 rows × 7 columns</p>\n",
       "</div>"
      ],
      "text/plain": [
       "     origin destination  trips                                          path  \\\n",
       "0     ES111    BRUSSELS   11.0                  ['LEST', 'LEMD', 'BRUSSELS']   \n",
       "1     ES111        EDDM   10.0                      ['LEST', 'LEMD', 'EDDM']   \n",
       "2     ES111        EHAM   14.0                      ['LECO', 'LEMD', 'EHAM']   \n",
       "3     ES111        EHAM   11.0                      ['LEST', 'LEMD', 'EHAM']   \n",
       "4     ES111        EHAM    4.0                      ['LEVX', 'LEMD', 'EHAM']   \n",
       "...     ...         ...    ...                                           ...   \n",
       "1824  ES243      VENICE    1.0  ['007104040', '007171801', 'LEBL', 'VENICE']   \n",
       "1825  ES211        EDDK   12.0                              ['LEVT', 'EDDK']   \n",
       "1826  ES211        LPPR    3.0                              ['LEBB', 'LPPR']   \n",
       "1827  ES211       MILAN   12.0                             ['LEBB', 'MILAN']   \n",
       "1828  ES211       MILAN    1.0   ['007111208', '007117000', 'LEMD', 'MILAN']   \n",
       "\n",
       "      total_travel_time  total_cost  total_emissions  \n",
       "0            355.000000      329.65       146.532000  \n",
       "1            346.000000      338.61       151.576000  \n",
       "2            330.000000      339.09       131.420000  \n",
       "3            339.666667      336.75       137.666667  \n",
       "4            403.000000      334.85       143.948000  \n",
       "...                 ...         ...              ...  \n",
       "1824         354.522727      196.53        72.247500  \n",
       "1825         141.000000      185.17        73.110000  \n",
       "1826         131.000000      140.55        46.110000  \n",
       "1827         196.000000      173.01        67.010000  \n",
       "1828         439.083333      212.05        89.467000  \n",
       "\n",
       "[1829 rows x 7 columns]"
      ]
     },
     "execution_count": 22,
     "metadata": {},
     "output_type": "execute_result"
    }
   ],
   "source": [
    "trips_logit[trips_logit[\"path\"].notna()]"
   ]
  },
  {
   "cell_type": "code",
   "execution_count": 23,
   "metadata": {},
   "outputs": [
    {
     "data": {
      "text/html": [
       "<div>\n",
       "<style scoped>\n",
       "    .dataframe tbody tr th:only-of-type {\n",
       "        vertical-align: middle;\n",
       "    }\n",
       "\n",
       "    .dataframe tbody tr th {\n",
       "        vertical-align: top;\n",
       "    }\n",
       "\n",
       "    .dataframe thead th {\n",
       "        text-align: right;\n",
       "    }\n",
       "</style>\n",
       "<table border=\"1\" class=\"dataframe\">\n",
       "  <thead>\n",
       "    <tr style=\"text-align: right;\">\n",
       "      <th></th>\n",
       "      <th>origin</th>\n",
       "      <th>destination</th>\n",
       "      <th>trips</th>\n",
       "      <th>path</th>\n",
       "      <th>total_travel_time</th>\n",
       "      <th>total_cost</th>\n",
       "      <th>total_emissions</th>\n",
       "    </tr>\n",
       "  </thead>\n",
       "  <tbody>\n",
       "  </tbody>\n",
       "</table>\n",
       "</div>"
      ],
      "text/plain": [
       "Empty DataFrame\n",
       "Columns: [origin, destination, trips, path, total_travel_time, total_cost, total_emissions]\n",
       "Index: []"
      ]
     },
     "execution_count": 23,
     "metadata": {},
     "output_type": "execute_result"
    }
   ],
   "source": [
    "trips_logit[trips_logit[\"path\"].isna()]"
   ]
  },
  {
   "cell_type": "code",
   "execution_count": 24,
   "metadata": {},
   "outputs": [],
   "source": [
    "trips_logit_formatted=trips_logit_format(trips_logit=trips_logit,\n",
    "                                         max_num_options=3,\n",
    "                                         drop_single_paths=True,\n",
    "                                         n_archetypes=1\n",
    "                                         )"
   ]
  },
  {
   "cell_type": "code",
   "execution_count": 25,
   "metadata": {},
   "outputs": [],
   "source": [
    "paths_w_costs=generate_paths_w_costs(trips_logit=trips_logit_formatted,\n",
    "                                     max_num_option=3\n",
    "                                     )"
   ]
  },
  {
   "cell_type": "code",
   "execution_count": 26,
   "metadata": {},
   "outputs": [
    {
     "data": {
      "text/html": [
       "<div>\n",
       "<style scoped>\n",
       "    .dataframe tbody tr th:only-of-type {\n",
       "        vertical-align: middle;\n",
       "    }\n",
       "\n",
       "    .dataframe tbody tr th {\n",
       "        vertical-align: top;\n",
       "    }\n",
       "\n",
       "    .dataframe thead th {\n",
       "        text-align: right;\n",
       "    }\n",
       "</style>\n",
       "<table border=\"1\" class=\"dataframe\">\n",
       "  <thead>\n",
       "    <tr style=\"text-align: right;\">\n",
       "      <th></th>\n",
       "      <th>origin</th>\n",
       "      <th>destination</th>\n",
       "      <th>travel_time_1</th>\n",
       "      <th>cost_1</th>\n",
       "      <th>emissions_1</th>\n",
       "      <th>train_1</th>\n",
       "      <th>plane_1</th>\n",
       "      <th>multimodal_1</th>\n",
       "      <th>av_1</th>\n",
       "      <th>travel_time_2</th>\n",
       "      <th>cost_2</th>\n",
       "      <th>emissions_2</th>\n",
       "      <th>train_2</th>\n",
       "      <th>plane_2</th>\n",
       "      <th>multimodal_2</th>\n",
       "      <th>av_2</th>\n",
       "      <th>travel_time_3</th>\n",
       "      <th>cost_3</th>\n",
       "      <th>emissions_3</th>\n",
       "      <th>train_3</th>\n",
       "      <th>plane_3</th>\n",
       "      <th>multimodal_3</th>\n",
       "      <th>av_3</th>\n",
       "    </tr>\n",
       "  </thead>\n",
       "  <tbody>\n",
       "    <tr>\n",
       "      <th>383</th>\n",
       "      <td>ES300</td>\n",
       "      <td>LFLL</td>\n",
       "      <td>139.250000</td>\n",
       "      <td>170.12</td>\n",
       "      <td>84.395000</td>\n",
       "      <td>0</td>\n",
       "      <td>1</td>\n",
       "      <td>0</td>\n",
       "      <td>1</td>\n",
       "      <td>344.000000</td>\n",
       "      <td>210.39</td>\n",
       "      <td>87.380</td>\n",
       "      <td>0</td>\n",
       "      <td>0</td>\n",
       "      <td>1</td>\n",
       "      <td>1</td>\n",
       "      <td>345.922414</td>\n",
       "      <td>195.45</td>\n",
       "      <td>65.28</td>\n",
       "      <td>0</td>\n",
       "      <td>0</td>\n",
       "      <td>1</td>\n",
       "      <td>1</td>\n",
       "    </tr>\n",
       "    <tr>\n",
       "      <th>1059</th>\n",
       "      <td>ISTANBUL</td>\n",
       "      <td>ES425</td>\n",
       "      <td>447.500000</td>\n",
       "      <td>249.60</td>\n",
       "      <td>400.630000</td>\n",
       "      <td>0</td>\n",
       "      <td>1</td>\n",
       "      <td>0</td>\n",
       "      <td>1</td>\n",
       "      <td>485.500000</td>\n",
       "      <td>255.75</td>\n",
       "      <td>402.550</td>\n",
       "      <td>0</td>\n",
       "      <td>0</td>\n",
       "      <td>1</td>\n",
       "      <td>1</td>\n",
       "      <td>-1.000000</td>\n",
       "      <td>-1.00</td>\n",
       "      <td>-1.00</td>\n",
       "      <td>0</td>\n",
       "      <td>0</td>\n",
       "      <td>0</td>\n",
       "      <td>0</td>\n",
       "    </tr>\n",
       "    <tr>\n",
       "      <th>100</th>\n",
       "      <td>EDDM</td>\n",
       "      <td>ES521</td>\n",
       "      <td>195.333333</td>\n",
       "      <td>202.38</td>\n",
       "      <td>94.086667</td>\n",
       "      <td>0</td>\n",
       "      <td>1</td>\n",
       "      <td>0</td>\n",
       "      <td>1</td>\n",
       "      <td>284.000000</td>\n",
       "      <td>197.10</td>\n",
       "      <td>84.090</td>\n",
       "      <td>0</td>\n",
       "      <td>1</td>\n",
       "      <td>0</td>\n",
       "      <td>1</td>\n",
       "      <td>-1.000000</td>\n",
       "      <td>-1.00</td>\n",
       "      <td>-1.00</td>\n",
       "      <td>0</td>\n",
       "      <td>0</td>\n",
       "      <td>0</td>\n",
       "      <td>0</td>\n",
       "    </tr>\n",
       "    <tr>\n",
       "      <th>1396</th>\n",
       "      <td>OEJN</td>\n",
       "      <td>ES413</td>\n",
       "      <td>636.500000</td>\n",
       "      <td>323.95</td>\n",
       "      <td>550.130000</td>\n",
       "      <td>0</td>\n",
       "      <td>0</td>\n",
       "      <td>1</td>\n",
       "      <td>1</td>\n",
       "      <td>644.000000</td>\n",
       "      <td>297.62</td>\n",
       "      <td>541.880</td>\n",
       "      <td>0</td>\n",
       "      <td>1</td>\n",
       "      <td>0</td>\n",
       "      <td>1</td>\n",
       "      <td>-1.000000</td>\n",
       "      <td>-1.00</td>\n",
       "      <td>-1.00</td>\n",
       "      <td>0</td>\n",
       "      <td>0</td>\n",
       "      <td>0</td>\n",
       "      <td>0</td>\n",
       "    </tr>\n",
       "    <tr>\n",
       "      <th>1299</th>\n",
       "      <td>LROP</td>\n",
       "      <td>ES617</td>\n",
       "      <td>275.000000</td>\n",
       "      <td>248.91</td>\n",
       "      <td>398.740000</td>\n",
       "      <td>0</td>\n",
       "      <td>1</td>\n",
       "      <td>0</td>\n",
       "      <td>1</td>\n",
       "      <td>516.083333</td>\n",
       "      <td>284.58</td>\n",
       "      <td>159.434</td>\n",
       "      <td>0</td>\n",
       "      <td>0</td>\n",
       "      <td>1</td>\n",
       "      <td>1</td>\n",
       "      <td>-1.000000</td>\n",
       "      <td>-1.00</td>\n",
       "      <td>-1.00</td>\n",
       "      <td>0</td>\n",
       "      <td>0</td>\n",
       "      <td>0</td>\n",
       "      <td>0</td>\n",
       "    </tr>\n",
       "  </tbody>\n",
       "</table>\n",
       "</div>"
      ],
      "text/plain": [
       "        origin destination  travel_time_1  cost_1  emissions_1  train_1  \\\n",
       "383      ES300        LFLL     139.250000  170.12    84.395000        0   \n",
       "1059  ISTANBUL       ES425     447.500000  249.60   400.630000        0   \n",
       "100       EDDM       ES521     195.333333  202.38    94.086667        0   \n",
       "1396      OEJN       ES413     636.500000  323.95   550.130000        0   \n",
       "1299      LROP       ES617     275.000000  248.91   398.740000        0   \n",
       "\n",
       "      plane_1  multimodal_1  av_1  travel_time_2  cost_2  emissions_2  \\\n",
       "383         1             0     1     344.000000  210.39       87.380   \n",
       "1059        1             0     1     485.500000  255.75      402.550   \n",
       "100         1             0     1     284.000000  197.10       84.090   \n",
       "1396        0             1     1     644.000000  297.62      541.880   \n",
       "1299        1             0     1     516.083333  284.58      159.434   \n",
       "\n",
       "      train_2  plane_2  multimodal_2  av_2  travel_time_3  cost_3  \\\n",
       "383         0        0             1     1     345.922414  195.45   \n",
       "1059        0        0             1     1      -1.000000   -1.00   \n",
       "100         0        1             0     1      -1.000000   -1.00   \n",
       "1396        0        1             0     1      -1.000000   -1.00   \n",
       "1299        0        0             1     1      -1.000000   -1.00   \n",
       "\n",
       "      emissions_3  train_3  plane_3  multimodal_3  av_3  \n",
       "383         65.28        0        0             1     1  \n",
       "1059        -1.00        0        0             0     0  \n",
       "100         -1.00        0        0             0     0  \n",
       "1396        -1.00        0        0             0     0  \n",
       "1299        -1.00        0        0             0     0  "
      ]
     },
     "execution_count": 26,
     "metadata": {},
     "output_type": "execute_result"
    }
   ],
   "source": [
    "paths_w_costs.sample(5)"
   ]
  },
  {
   "cell_type": "code",
   "execution_count": 27,
   "metadata": {},
   "outputs": [
    {
     "data": {
      "text/html": [
       "<div>\n",
       "<style scoped>\n",
       "    .dataframe tbody tr th:only-of-type {\n",
       "        vertical-align: middle;\n",
       "    }\n",
       "\n",
       "    .dataframe tbody tr th {\n",
       "        vertical-align: top;\n",
       "    }\n",
       "\n",
       "    .dataframe thead th {\n",
       "        text-align: right;\n",
       "    }\n",
       "</style>\n",
       "<table border=\"1\" class=\"dataframe\">\n",
       "  <thead>\n",
       "    <tr style=\"text-align: right;\">\n",
       "      <th></th>\n",
       "      <th>origin</th>\n",
       "      <th>destination</th>\n",
       "      <th>trips</th>\n",
       "      <th>path</th>\n",
       "      <th>total_travel_time</th>\n",
       "      <th>total_cost</th>\n",
       "      <th>total_emissions</th>\n",
       "      <th>noption</th>\n",
       "      <th>trips_per_od_pair</th>\n",
       "      <th>prob_per_od_pair_arch_0</th>\n",
       "    </tr>\n",
       "  </thead>\n",
       "  <tbody>\n",
       "    <tr>\n",
       "      <th>163</th>\n",
       "      <td>EGGD</td>\n",
       "      <td>ES514</td>\n",
       "      <td>12.0</td>\n",
       "      <td>['EGGD', 'LEBL']</td>\n",
       "      <td>198.500000</td>\n",
       "      <td>186.23</td>\n",
       "      <td>82.475</td>\n",
       "      <td>1</td>\n",
       "      <td>13.0</td>\n",
       "      <td>0.923077</td>\n",
       "    </tr>\n",
       "    <tr>\n",
       "      <th>164</th>\n",
       "      <td>EGGD</td>\n",
       "      <td>ES514</td>\n",
       "      <td>1.0</td>\n",
       "      <td>['EGGD', 'LEBL', '007171801', '007165402']</td>\n",
       "      <td>375.730769</td>\n",
       "      <td>199.72</td>\n",
       "      <td>86.695</td>\n",
       "      <td>2</td>\n",
       "      <td>13.0</td>\n",
       "      <td>0.076923</td>\n",
       "    </tr>\n",
       "  </tbody>\n",
       "</table>\n",
       "</div>"
      ],
      "text/plain": [
       "    origin destination  trips                                        path  \\\n",
       "163   EGGD       ES514   12.0                            ['EGGD', 'LEBL']   \n",
       "164   EGGD       ES514    1.0  ['EGGD', 'LEBL', '007171801', '007165402']   \n",
       "\n",
       "     total_travel_time  total_cost  total_emissions  noption  \\\n",
       "163         198.500000      186.23           82.475        1   \n",
       "164         375.730769      199.72           86.695        2   \n",
       "\n",
       "     trips_per_od_pair  prob_per_od_pair_arch_0  \n",
       "163               13.0                 0.923077  \n",
       "164               13.0                 0.076923  "
      ]
     },
     "execution_count": 27,
     "metadata": {},
     "output_type": "execute_result"
    }
   ],
   "source": [
    "trips_logit_formatted[(trips_logit_formatted[\"origin\"]==\"EGGD\")&(trips_logit_formatted[\"destination\"]==\"ES514\")]"
   ]
  },
  {
   "cell_type": "code",
   "execution_count": 28,
   "metadata": {},
   "outputs": [],
   "source": [
    "calibration_matrix=generate_calibration_matrix(trips_logit=trips_logit_formatted,\n",
    "                            paths_w_costs=paths_w_costs,\n",
    "                            drop_single_paths=True)"
   ]
  },
  {
   "cell_type": "code",
   "execution_count": 29,
   "metadata": {},
   "outputs": [
    {
     "data": {
      "text/html": [
       "<div>\n",
       "<style scoped>\n",
       "    .dataframe tbody tr th:only-of-type {\n",
       "        vertical-align: middle;\n",
       "    }\n",
       "\n",
       "    .dataframe tbody tr th {\n",
       "        vertical-align: top;\n",
       "    }\n",
       "\n",
       "    .dataframe thead th {\n",
       "        text-align: right;\n",
       "    }\n",
       "</style>\n",
       "<table border=\"1\" class=\"dataframe\">\n",
       "  <thead>\n",
       "    <tr style=\"text-align: right;\">\n",
       "      <th></th>\n",
       "      <th>trips</th>\n",
       "      <th>total_travel_time</th>\n",
       "      <th>observed_choice</th>\n",
       "      <th>travel_time_1</th>\n",
       "      <th>cost_1</th>\n",
       "      <th>emissions_1</th>\n",
       "      <th>train_1</th>\n",
       "      <th>plane_1</th>\n",
       "      <th>multimodal_1</th>\n",
       "      <th>av_1</th>\n",
       "      <th>travel_time_2</th>\n",
       "      <th>cost_2</th>\n",
       "      <th>emissions_2</th>\n",
       "      <th>train_2</th>\n",
       "      <th>plane_2</th>\n",
       "      <th>multimodal_2</th>\n",
       "      <th>av_2</th>\n",
       "      <th>travel_time_3</th>\n",
       "      <th>cost_3</th>\n",
       "      <th>emissions_3</th>\n",
       "      <th>train_3</th>\n",
       "      <th>plane_3</th>\n",
       "      <th>multimodal_3</th>\n",
       "      <th>av_3</th>\n",
       "    </tr>\n",
       "  </thead>\n",
       "  <tbody>\n",
       "  </tbody>\n",
       "</table>\n",
       "</div>"
      ],
      "text/plain": [
       "Empty DataFrame\n",
       "Columns: [trips, total_travel_time, observed_choice, travel_time_1, cost_1, emissions_1, train_1, plane_1, multimodal_1, av_1, travel_time_2, cost_2, emissions_2, train_2, plane_2, multimodal_2, av_2, travel_time_3, cost_3, emissions_3, train_3, plane_3, multimodal_3, av_3]\n",
       "Index: []"
      ]
     },
     "execution_count": 29,
     "metadata": {},
     "output_type": "execute_result"
    }
   ],
   "source": [
    "calibration_matrix[calibration_matrix[\"train_2\"]!=0]"
   ]
  },
  {
   "cell_type": "code",
   "execution_count": 30,
   "metadata": {},
   "outputs": [
    {
     "data": {
      "text/html": [
       "<div>\n",
       "<style scoped>\n",
       "    .dataframe tbody tr th:only-of-type {\n",
       "        vertical-align: middle;\n",
       "    }\n",
       "\n",
       "    .dataframe tbody tr th {\n",
       "        vertical-align: top;\n",
       "    }\n",
       "\n",
       "    .dataframe thead th {\n",
       "        text-align: right;\n",
       "    }\n",
       "</style>\n",
       "<table border=\"1\" class=\"dataframe\">\n",
       "  <thead>\n",
       "    <tr style=\"text-align: right;\">\n",
       "      <th></th>\n",
       "      <th>trips</th>\n",
       "      <th>total_travel_time</th>\n",
       "      <th>observed_choice</th>\n",
       "      <th>travel_time_1</th>\n",
       "      <th>cost_1</th>\n",
       "      <th>emissions_1</th>\n",
       "      <th>train_1</th>\n",
       "      <th>plane_1</th>\n",
       "      <th>multimodal_1</th>\n",
       "      <th>av_1</th>\n",
       "      <th>travel_time_2</th>\n",
       "      <th>cost_2</th>\n",
       "      <th>emissions_2</th>\n",
       "      <th>train_2</th>\n",
       "      <th>plane_2</th>\n",
       "      <th>multimodal_2</th>\n",
       "      <th>av_2</th>\n",
       "      <th>travel_time_3</th>\n",
       "      <th>cost_3</th>\n",
       "      <th>emissions_3</th>\n",
       "      <th>train_3</th>\n",
       "      <th>plane_3</th>\n",
       "      <th>multimodal_3</th>\n",
       "      <th>av_3</th>\n",
       "    </tr>\n",
       "  </thead>\n",
       "  <tbody>\n",
       "  </tbody>\n",
       "</table>\n",
       "</div>"
      ],
      "text/plain": [
       "Empty DataFrame\n",
       "Columns: [trips, total_travel_time, observed_choice, travel_time_1, cost_1, emissions_1, train_1, plane_1, multimodal_1, av_1, travel_time_2, cost_2, emissions_2, train_2, plane_2, multimodal_2, av_2, travel_time_3, cost_3, emissions_3, train_3, plane_3, multimodal_3, av_3]\n",
       "Index: []"
      ]
     },
     "execution_count": 30,
     "metadata": {},
     "output_type": "execute_result"
    }
   ],
   "source": [
    "calibration_matrix[calibration_matrix[\"train_3\"]!=0]"
   ]
  },
  {
   "cell_type": "markdown",
   "metadata": {},
   "source": [
    "In this case, there are no trips with rail. So we have to change the way we calibrate the model, perhaps using a dictionary?"
   ]
  },
  {
   "cell_type": "code",
   "execution_count": 31,
   "metadata": {},
   "outputs": [],
   "source": [
    "calibration_matrix.to_csv(\"calibration_matrix_CS11_v0.2.csv\")"
   ]
  },
  {
   "cell_type": "code",
   "execution_count": 32,
   "metadata": {},
   "outputs": [
    {
     "name": "stdout",
     "output_type": "stream",
     "text": [
      "Deleted trips.pickle\n"
     ]
    }
   ],
   "source": [
    "# Delete pickle files if they already exist \n",
    "pickle_file=\"trips.pickle\"\n",
    "if os.path.exists(pickle_file):\n",
    "    os.remove(pickle_file)\n",
    "    print(f\"Deleted {pickle_file}\")\n",
    "else: \n",
    "    print(f\"pickle file {pickle_file} doesn't exist\")\n"
   ]
  },
  {
   "cell_type": "code",
   "execution_count": 33,
   "metadata": {},
   "outputs": [
    {
     "name": "stderr",
     "output_type": "stream",
     "text": [
      "The chosen alternative [`3.0`] is not available for the following observations (rownumber[choice]): 0[3.0]-1[3.0]-2[3.0]-3[3.0]-4[3.0]-5[3.0]-6[3.0]-7[3.0]-8[3.0]-9[3.0]-11[3.0]-13[3.0]-14[3.0]-15[3.0...\n",
      "The chosen alternative [`3.0`] is not available for the following observations (rownumber[choice]): 0[3.0]-1[3.0]-2[3.0]-3[3.0]-4[3.0]-5[3.0]-6[3.0]-7[3.0]-8[3.0]-9[3.0]-11[3.0]-13[3.0]-14[3.0]-15[3.0...\n"
     ]
    },
    {
     "name": "stdout",
     "output_type": "stream",
     "text": [
      "Training results:\n",
      "Results for model trips\n",
      "Nbr of parameters:\t\t3\n",
      "Sample size:\t\t\t1226\n",
      "Excluded data:\t\t\t0\n",
      "Final log likelihood:\t\t-189.4097\n",
      "Akaike Information Criterion:\t384.8193\n",
      "Bayesian Information Criterion:\t400.1539\n",
      "\n",
      "              Value  Rob. Std err  Rob. t-test  Rob. p-value\n",
      "ASC_PLANE  1.254677      0.397401     3.157210      0.001593\n",
      "B_COST     0.007778      0.006417     1.212062      0.225489\n",
      "B_TIME    -0.024173      0.001959   -12.342270      0.000000\n",
      "{'ASC_PLANE': np.float64(1.254677280769151), 'B_COST': np.float64(0.007777636372390648), 'B_TIME': np.float64(-0.02417304766695015)}\n",
      "Test results:\n",
      "{'ASC_PLANE': np.float64(1.254677280769151), 'B_COST': np.float64(0.007777636372390648), 'B_TIME': np.float64(-0.02417304766695015)}\n",
      "        prob_1    prob_2  prob_3\n",
      "1513  0.995653  0.004347     0.0\n",
      "468   0.897573  0.102427     0.0\n",
      "378   0.999299  0.000701     0.0\n",
      "860   0.999780  0.000220     0.0\n",
      "996   0.728265  0.271735     0.0\n",
      "...        ...       ...     ...\n",
      "1288  0.995653  0.004347     0.0\n",
      "179   0.999952  0.000048     0.0\n",
      "876   0.999477  0.000523     0.0\n",
      "713   0.903660  0.096340     0.0\n",
      "342   0.240076  0.759924     0.0\n",
      "\n",
      "[307 rows x 3 columns]\n"
     ]
    }
   ],
   "source": [
    "# we do not need to change the calibration matrix\n",
    "database_path=r\".\\calibration_matrix_CS11_v0.2.csv\"\n",
    "test_results=calibrate_main(database_path=database_path,\n",
    "                            n_archetypes=1,\n",
    "                            n_alternatives=3)"
   ]
  },
  {
   "cell_type": "code",
   "execution_count": 34,
   "metadata": {},
   "outputs": [
    {
     "data": {
      "text/plain": [
       "{'test_results':         prob_1    prob_2  prob_3\n",
       " 1513  0.995653  0.004347     0.0\n",
       " 468   0.897573  0.102427     0.0\n",
       " 378   0.999299  0.000701     0.0\n",
       " 860   0.999780  0.000220     0.0\n",
       " 996   0.728265  0.271735     0.0\n",
       " ...        ...       ...     ...\n",
       " 1288  0.995653  0.004347     0.0\n",
       " 179   0.999952  0.000048     0.0\n",
       " 876   0.999477  0.000523     0.0\n",
       " 713   0.903660  0.096340     0.0\n",
       " 342   0.240076  0.759924     0.0\n",
       " \n",
       " [307 rows x 3 columns]}"
      ]
     },
     "execution_count": 34,
     "metadata": {},
     "output_type": "execute_result"
    }
   ],
   "source": [
    "test_results"
   ]
  },
  {
   "cell_type": "code",
   "execution_count": 35,
   "metadata": {},
   "outputs": [],
   "source": [
    "archetypes={}\n",
    "archetypes[\"archetype_0\"]=res.bioResults(pickle_file=\"trips.pickle\")"
   ]
  },
  {
   "cell_type": "code",
   "execution_count": 41,
   "metadata": {},
   "outputs": [
    {
     "data": {
      "text/html": [
       "<div>\n",
       "<style scoped>\n",
       "    .dataframe tbody tr th:only-of-type {\n",
       "        vertical-align: middle;\n",
       "    }\n",
       "\n",
       "    .dataframe tbody tr th {\n",
       "        vertical-align: top;\n",
       "    }\n",
       "\n",
       "    .dataframe thead th {\n",
       "        text-align: right;\n",
       "    }\n",
       "</style>\n",
       "<table border=\"1\" class=\"dataframe\">\n",
       "  <thead>\n",
       "    <tr style=\"text-align: right;\">\n",
       "      <th></th>\n",
       "      <th>Value</th>\n",
       "      <th>Rob. Std err</th>\n",
       "      <th>Rob. t-test</th>\n",
       "      <th>Rob. p-value</th>\n",
       "    </tr>\n",
       "  </thead>\n",
       "  <tbody>\n",
       "    <tr>\n",
       "      <th>ASC_PLANE</th>\n",
       "      <td>1.254677</td>\n",
       "      <td>0.397401</td>\n",
       "      <td>3.157210</td>\n",
       "      <td>0.001593</td>\n",
       "    </tr>\n",
       "    <tr>\n",
       "      <th>B_COST</th>\n",
       "      <td>0.007778</td>\n",
       "      <td>0.006417</td>\n",
       "      <td>1.212062</td>\n",
       "      <td>0.225489</td>\n",
       "    </tr>\n",
       "    <tr>\n",
       "      <th>B_TIME</th>\n",
       "      <td>-0.024173</td>\n",
       "      <td>0.001959</td>\n",
       "      <td>-12.342270</td>\n",
       "      <td>0.000000</td>\n",
       "    </tr>\n",
       "  </tbody>\n",
       "</table>\n",
       "</div>"
      ],
      "text/plain": [
       "              Value  Rob. Std err  Rob. t-test  Rob. p-value\n",
       "ASC_PLANE  1.254677      0.397401     3.157210      0.001593\n",
       "B_COST     0.007778      0.006417     1.212062      0.225489\n",
       "B_TIME    -0.024173      0.001959   -12.342270      0.000000"
      ]
     },
     "execution_count": 41,
     "metadata": {},
     "output_type": "execute_result"
    }
   ],
   "source": [
    "archetypes[\"archetype_0\"].get_estimated_parameters()"
   ]
  },
  {
   "cell_type": "code",
   "execution_count": 42,
   "metadata": {},
   "outputs": [],
   "source": [
    "def calibration_results_summary_one_arch(archetypes: dict):\n",
    "    data=[]\n",
    "    \n",
    "    archetype = archetypes[\"archetype_0\"] # accesses the values  \n",
    "    values=archetype.get_estimated_parameters() # dataframe of the betavalues \n",
    "    \n",
    "    asc_plane = values.loc['ASC_PLANE'][\"Value\"]  \n",
    "    asc_plane_significance=(values.loc[\"ASC_PLANE\"][\"Rob. p-value\"]<0.05)\n",
    "\n",
    "    #asc_train = values.loc['ASC_TRAIN'][\"Value\"]\n",
    "    #asc_train_significance=(values.loc[\"ASC_TRAIN\"][\"Rob. p-value\"]<0.05)\n",
    "\n",
    "    if \"B_CO2\" in values.index:\n",
    "        b_co2 = values.loc['B_CO2'][\"Value\"]      \n",
    "        b_co2_significance=(values.loc[\"B_CO2\"][\"Rob. p-value\"]<0.05)\n",
    "    else:\n",
    "        b_co2=\"Not calibrated\"\n",
    "        b_co2_significance=\"NA\"\n",
    "\n",
    "    b_time = values.loc['B_TIME'][\"Value\"]\n",
    "    b_time_significance=(values.loc[\"B_TIME\"][\"Rob. p-value\"]<0.05)\n",
    "\n",
    "    b_cost=values.loc[\"B_COST\"][\"Value\"]\n",
    "    b_cost_significance=(values.loc[\"B_COST\"][\"Rob. p-value\"]<0.05)\n",
    "\n",
    "    # Create a row dictionary\n",
    "    row = {\n",
    "        \"Archetype\": \"Archetype_0\",\n",
    "        \"ASC_PLANE\": asc_plane,\n",
    "        \"ASC_PLANE_SIGNIFICANCE\": asc_plane_significance,\n",
    "        #\"ASC_TRAIN\": asc_train,\n",
    "        #\"ASC_TRAIN_SIGNIFICANCE\": asc_train_significance,\n",
    "        \"B_CO2\": b_co2,\n",
    "        \"B_CO2_SIGNIFICANCE\": b_co2_significance,\n",
    "        \"B_TIME\": b_time,\n",
    "        \"B_TIME_SIGNIFICANCE\": b_time_significance,\n",
    "        \"B_COST\": b_cost,\n",
    "        \"B_COST_SIGNIFICANCE\": b_cost_significance\n",
    "    }\n",
    "    \n",
    "    # Append the row to the list\n",
    "    data.append(row)\n",
    "\n",
    "    calibration_results = pd.DataFrame(data)\n",
    "    return calibration_results"
   ]
  },
  {
   "cell_type": "code",
   "execution_count": 43,
   "metadata": {},
   "outputs": [
    {
     "data": {
      "text/html": [
       "<div>\n",
       "<style scoped>\n",
       "    .dataframe tbody tr th:only-of-type {\n",
       "        vertical-align: middle;\n",
       "    }\n",
       "\n",
       "    .dataframe tbody tr th {\n",
       "        vertical-align: top;\n",
       "    }\n",
       "\n",
       "    .dataframe thead th {\n",
       "        text-align: right;\n",
       "    }\n",
       "</style>\n",
       "<table border=\"1\" class=\"dataframe\">\n",
       "  <thead>\n",
       "    <tr style=\"text-align: right;\">\n",
       "      <th></th>\n",
       "      <th>Archetype</th>\n",
       "      <th>ASC_PLANE</th>\n",
       "      <th>ASC_PLANE_SIGNIFICANCE</th>\n",
       "      <th>B_CO2</th>\n",
       "      <th>B_CO2_SIGNIFICANCE</th>\n",
       "      <th>B_TIME</th>\n",
       "      <th>B_TIME_SIGNIFICANCE</th>\n",
       "      <th>B_COST</th>\n",
       "      <th>B_COST_SIGNIFICANCE</th>\n",
       "    </tr>\n",
       "  </thead>\n",
       "  <tbody>\n",
       "    <tr>\n",
       "      <th>0</th>\n",
       "      <td>Archetype_0</td>\n",
       "      <td>1.254677</td>\n",
       "      <td>True</td>\n",
       "      <td>Not calibrated</td>\n",
       "      <td>NA</td>\n",
       "      <td>-0.024173</td>\n",
       "      <td>True</td>\n",
       "      <td>0.007778</td>\n",
       "      <td>False</td>\n",
       "    </tr>\n",
       "  </tbody>\n",
       "</table>\n",
       "</div>"
      ],
      "text/plain": [
       "     Archetype  ASC_PLANE  ASC_PLANE_SIGNIFICANCE           B_CO2  \\\n",
       "0  Archetype_0   1.254677                    True  Not calibrated   \n",
       "\n",
       "  B_CO2_SIGNIFICANCE    B_TIME  B_TIME_SIGNIFICANCE    B_COST  \\\n",
       "0                 NA -0.024173                 True  0.007778   \n",
       "\n",
       "   B_COST_SIGNIFICANCE  \n",
       "0                False  "
      ]
     },
     "execution_count": 43,
     "metadata": {},
     "output_type": "execute_result"
    }
   ],
   "source": [
    "calibration_results_summary_one_arch(archetypes=archetypes)"
   ]
  },
  {
   "cell_type": "code",
   "execution_count": 44,
   "metadata": {},
   "outputs": [],
   "source": [
    "final_test=test_logit(test_results,trips_logit_formatted, n_alternatives=1)"
   ]
  },
  {
   "cell_type": "code",
   "execution_count": 45,
   "metadata": {},
   "outputs": [
    {
     "data": {
      "text/plain": [
       "{'archetype_0':      location prob_predicted prob_observed\n",
       " 0        1513       0.995653      0.833333\n",
       " 1         468       0.102427      0.166667\n",
       " 2         378       0.999299      0.996599\n",
       " 3         860        0.00022           0.2\n",
       " 4         996       0.728265      0.697674\n",
       " ..        ...            ...           ...\n",
       " 302      1288       0.004347      0.086957\n",
       " 303       179       0.000048      0.008403\n",
       " 304       876       0.000523           0.5\n",
       " 305       713        0.09634      0.090909\n",
       " 306       342       0.759924          0.24\n",
       " \n",
       " [307 rows x 3 columns]}"
      ]
     },
     "execution_count": 45,
     "metadata": {},
     "output_type": "execute_result"
    }
   ],
   "source": [
    "final_test"
   ]
  },
  {
   "cell_type": "code",
   "execution_count": 46,
   "metadata": {},
   "outputs": [
    {
     "name": "stdout",
     "output_type": "stream",
     "text": [
      "international Evaluation:\n",
      "Mean Squared Error: 0.0364\n",
      "Mean Absolute Error: 0.1259\n",
      "Pearson Correlation: 0.8786\n",
      "Spearman Correlation: 0.8841\n",
      "Standard deviation: 0.1909\n"
     ]
    },
    {
     "data": {
      "text/plain": [
       "(np.float64(0.03644127286300786),\n",
       " np.float64(0.12586435572091254),\n",
       " np.float64(0.8785710901056668),\n",
       " np.float64(0.884125727994251),\n",
       " np.float64(0.19089561506123576))"
      ]
     },
     "execution_count": 46,
     "metadata": {},
     "output_type": "execute_result"
    }
   ],
   "source": [
    "evaluate_model(test_data=final_test[\"archetype_0\"],model_name=\"international\")"
   ]
  },
  {
   "cell_type": "code",
   "execution_count": 47,
   "metadata": {},
   "outputs": [
    {
     "name": "stdout",
     "output_type": "stream",
     "text": [
      "0 rows were removed\n"
     ]
    },
    {
     "data": {
      "image/png": "[encoded data removed]",
      "text/plain": [
       "<Figure size 640x480 with 1 Axes>"
      ]
     },
     "metadata": {},
     "output_type": "display_data"
    }
   ],
   "source": [
    "calibration_plot(test_data=final_test[\"archetype_0\"],model_name=\"international\")"
   ]
  },
  {
   "cell_type": "markdown",
   "metadata": {},
   "source": [
    "We see that the model without CO2 performs quite well. Now let us add CO2 into account"
   ]
  },
  {
   "cell_type": "code",
   "execution_count": 49,
   "metadata": {},
   "outputs": [
    {
     "name": "stdout",
     "output_type": "stream",
     "text": [
      "Deleted trips.pickle\n"
     ]
    }
   ],
   "source": [
    "# Delete pickle files if they already exist \n",
    "pickle_file=\"trips.pickle\"\n",
    "if os.path.exists(pickle_file):\n",
    "    os.remove(pickle_file)\n",
    "    print(f\"Deleted {pickle_file}\")\n",
    "else: \n",
    "    print(f\"pickle file {pickle_file} doesn't exist\")"
   ]
  },
  {
   "cell_type": "code",
   "execution_count": 55,
   "metadata": {},
   "outputs": [
    {
     "name": "stderr",
     "output_type": "stream",
     "text": [
      "The chosen alternative [`3.0`] is not available for the following observations (rownumber[choice]): 0[3.0]-1[3.0]-2[3.0]-3[3.0]-4[3.0]-5[3.0]-6[3.0]-7[3.0]-8[3.0]-9[3.0]-11[3.0]-13[3.0]-14[3.0]-15[3.0...\n",
      "The chosen alternative [`3.0`] is not available for the following observations (rownumber[choice]): 0[3.0]-1[3.0]-2[3.0]-3[3.0]-4[3.0]-5[3.0]-6[3.0]-7[3.0]-8[3.0]-9[3.0]-11[3.0]-13[3.0]-14[3.0]-15[3.0...\n"
     ]
    },
    {
     "name": "stdout",
     "output_type": "stream",
     "text": [
      "Training results:\n",
      "Results for model trips\n",
      "Nbr of parameters:\t\t4\n",
      "Sample size:\t\t\t1226\n",
      "Excluded data:\t\t\t0\n",
      "Final log likelihood:\t\t-188.5449\n",
      "Akaike Information Criterion:\t385.0899\n",
      "Bayesian Information Criterion:\t405.5359\n",
      "\n",
      "              Value  Rob. Std err  Rob. t-test  Rob. p-value\n",
      "ASC_PLANE  1.285171      0.399950     3.213328      0.001312\n",
      "B_CO2      0.007030      0.005279     1.331771      0.182935\n",
      "B_COST     0.010546      0.005467     1.929192      0.053707\n",
      "B_TIME    -0.024294      0.001980   -12.268526      0.000000\n",
      "{'ASC_PLANE': np.float64(1.2851714964920398), 'B_CO2': np.float64(0.0070304367852370075), 'B_COST': np.float64(0.010545943475256664), 'B_TIME': np.float64(-0.024293696361499577)}\n",
      "Test results:\n",
      "{'ASC_PLANE': np.float64(1.2851714964920398), 'B_CO2': np.float64(0.0070304367852370075), 'B_COST': np.float64(0.010545943475256664), 'B_TIME': np.float64(-0.024293696361499577)}\n",
      "        prob_1    prob_2  prob_3\n",
      "1513  0.995587  0.004413     0.0\n",
      "468   0.898012  0.101988     0.0\n",
      "378   0.998966  0.001034     0.0\n",
      "860   0.999799  0.000201     0.0\n",
      "996   0.725679  0.274321     0.0\n",
      "...        ...       ...     ...\n",
      "1288  0.995587  0.004413     0.0\n",
      "179   0.999952  0.000048     0.0\n",
      "876   0.999606  0.000394     0.0\n",
      "713   0.910481  0.089519     0.0\n",
      "342   0.421573  0.578427     0.0\n",
      "\n",
      "[307 rows x 3 columns]\n"
     ]
    }
   ],
   "source": [
    "database_path=r\".\\calibration_matrix_CS11_v0.2.csv\"\n",
    "test_results_co2=calibrate_main(database_path=database_path,\n",
    "                            n_archetypes=1,\n",
    "                            n_alternatives=3)"
   ]
  },
  {
   "cell_type": "code",
   "execution_count": 56,
   "metadata": {},
   "outputs": [],
   "source": [
    "archetypes_co2={}\n",
    "archetypes_co2[\"archetype_0\"]=res.bioResults(pickle_file=\"trips.pickle\")"
   ]
  },
  {
   "cell_type": "code",
   "execution_count": 57,
   "metadata": {},
   "outputs": [
    {
     "data": {
      "text/html": [
       "<div>\n",
       "<style scoped>\n",
       "    .dataframe tbody tr th:only-of-type {\n",
       "        vertical-align: middle;\n",
       "    }\n",
       "\n",
       "    .dataframe tbody tr th {\n",
       "        vertical-align: top;\n",
       "    }\n",
       "\n",
       "    .dataframe thead th {\n",
       "        text-align: right;\n",
       "    }\n",
       "</style>\n",
       "<table border=\"1\" class=\"dataframe\">\n",
       "  <thead>\n",
       "    <tr style=\"text-align: right;\">\n",
       "      <th></th>\n",
       "      <th>Archetype</th>\n",
       "      <th>ASC_PLANE</th>\n",
       "      <th>ASC_PLANE_SIGNIFICANCE</th>\n",
       "      <th>B_CO2</th>\n",
       "      <th>B_CO2_SIGNIFICANCE</th>\n",
       "      <th>B_TIME</th>\n",
       "      <th>B_TIME_SIGNIFICANCE</th>\n",
       "      <th>B_COST</th>\n",
       "      <th>B_COST_SIGNIFICANCE</th>\n",
       "    </tr>\n",
       "  </thead>\n",
       "  <tbody>\n",
       "    <tr>\n",
       "      <th>0</th>\n",
       "      <td>Archetype_0</td>\n",
       "      <td>1.285171</td>\n",
       "      <td>True</td>\n",
       "      <td>0.00703</td>\n",
       "      <td>False</td>\n",
       "      <td>-0.024294</td>\n",
       "      <td>True</td>\n",
       "      <td>0.010546</td>\n",
       "      <td>False</td>\n",
       "    </tr>\n",
       "  </tbody>\n",
       "</table>\n",
       "</div>"
      ],
      "text/plain": [
       "     Archetype  ASC_PLANE  ASC_PLANE_SIGNIFICANCE    B_CO2  \\\n",
       "0  Archetype_0   1.285171                    True  0.00703   \n",
       "\n",
       "   B_CO2_SIGNIFICANCE    B_TIME  B_TIME_SIGNIFICANCE    B_COST  \\\n",
       "0               False -0.024294                 True  0.010546   \n",
       "\n",
       "   B_COST_SIGNIFICANCE  \n",
       "0                False  "
      ]
     },
     "execution_count": 57,
     "metadata": {},
     "output_type": "execute_result"
    }
   ],
   "source": [
    "calibration_results_summary_one_arch(archetypes=archetypes_co2)"
   ]
  },
  {
   "cell_type": "code",
   "execution_count": 58,
   "metadata": {},
   "outputs": [],
   "source": [
    "final_test_co2=test_logit(test_results_co2,trips_logit_formatted, n_alternatives=1)"
   ]
  },
  {
   "cell_type": "code",
   "execution_count": 61,
   "metadata": {},
   "outputs": [
    {
     "name": "stdout",
     "output_type": "stream",
     "text": [
      "international with co2 Evaluation:\n",
      "Mean Squared Error: 0.0362\n",
      "Mean Absolute Error: 0.1249\n",
      "Pearson Correlation: 0.8796\n",
      "Spearman Correlation: 0.8848\n",
      "Standard deviation: 0.1904\n"
     ]
    },
    {
     "data": {
      "text/plain": [
       "(np.float64(0.036246703577326976),\n",
       " np.float64(0.12485465023362939),\n",
       " np.float64(0.8795552995632356),\n",
       " np.float64(0.8847938208690893),\n",
       " np.float64(0.1903856623134967))"
      ]
     },
     "execution_count": 61,
     "metadata": {},
     "output_type": "execute_result"
    }
   ],
   "source": [
    "evaluate_model(test_data=final_test_co2[\"archetype_0\"],model_name=\"international with co2\")"
   ]
  },
  {
   "cell_type": "code",
   "execution_count": 62,
   "metadata": {},
   "outputs": [
    {
     "name": "stdout",
     "output_type": "stream",
     "text": [
      "0 rows were removed\n"
     ]
    },
    {
     "data": {
      "image/png": "[encoded data removed]",
      "text/plain": [
       "<Figure size 640x480 with 1 Axes>"
      ]
     },
     "metadata": {},
     "output_type": "display_data"
    }
   ],
   "source": [
    "calibration_plot(test_data=final_test_co2[\"archetype_0\"],model_name=\"international with co2\")"
   ]
  },
  {
   "cell_type": "markdown",
   "metadata": {},
   "source": [
    "Adding CO2 doesn't change how the model performs, hence the best calibration is the one without it"
   ]
  },
  {
   "cell_type": "code",
   "execution_count": null,
   "metadata": {},
   "outputs": [],
   "source": []
  }
 ],
 "metadata": {
  "kernelspec": {
   "display_name": "Python 3",
   "language": "python",
   "name": "python3"
  },
  "language_info": {
   "codemirror_mode": {
    "name": "ipython",
    "version": 3
   },
   "file_extension": ".py",
   "mimetype": "text/x-python",
   "name": "python",
   "nbconvert_exporter": "python",
   "pygments_lexer": "ipython3",
   "version": "3.12.0"
  }
 },
 "nbformat": 4,
 "nbformat_minor": 2
}
